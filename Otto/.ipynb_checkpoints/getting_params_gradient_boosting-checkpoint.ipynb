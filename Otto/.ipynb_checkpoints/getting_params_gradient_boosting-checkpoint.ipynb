{
 "cells": [
  {
   "cell_type": "code",
   "execution_count": 1,
   "metadata": {
    "collapsed": false
   },
   "outputs": [
    {
     "data": {
      "application/javascript": [
       "IPython.notebook.set_autosave_interval(15000)"
      ]
     },
     "metadata": {},
     "output_type": "display_data"
    },
    {
     "name": "stdout",
     "output_type": "stream",
     "text": [
      "Autosaving every 15 seconds\n"
     ]
    }
   ],
   "source": [
    "%matplotlib inline\n",
    "%load_ext autoreload\n",
    "%autoreload 5\n",
    "%autosave 15\n",
    "\n",
    "import pandas as pd\n",
    "import scipy as sp\n",
    "import numpy as np\n",
    "import matplotlib.pyplot as plt\n",
    "import math\n",
    "\n",
    "import sklearn\n",
    "from sklearn import datasets\n",
    "from sklearn.cross_validation import train_test_split\n",
    "from sklearn.cross_validation import cross_val_score\n",
    "from sklearn.linear_model import LinearRegression, LogisticRegression\n",
    "from sklearn.svm import SVC, SVR\n",
    "from sklearn.ensemble import RandomForestClassifier, RandomForestRegressor\n",
    "from sklearn.ensemble import GradientBoostingClassifier, GradientBoostingRegressor\n",
    "from sklearn.grid_search import GridSearchCV"
   ]
  },
  {
   "cell_type": "code",
   "execution_count": 2,
   "metadata": {
    "collapsed": true
   },
   "outputs": [],
   "source": [
    "train_data = pd.read_csv('Data/train.csv')\n",
    "train_data = train_data.drop(\"id\", axis = 1)\n",
    "def convert_target(x):\n",
    "    return int(x[\"target\"].split('_')[1])\n",
    "train_data[\"target\"] = train_data.apply(convert_target, axis = 1)"
   ]
  },
  {
   "cell_type": "code",
   "execution_count": 3,
   "metadata": {
    "collapsed": true
   },
   "outputs": [],
   "source": [
    "from sklearn.metrics import log_loss, accuracy_score\n",
    "import datetime, time\n",
    "def test_method(method, a_train, a_test, b_train, b_test):\n",
    "    print method.__class__\n",
    "    method.fit(a_train, b_train)\n",
    "    print log_loss(b_train, method.predict_proba(a_train))\n",
    "\n",
    "def test_methods(methods, a_train, a_test, b_train, b_test):\n",
    "    for method in methods:\n",
    "        test_method(method, a_train, a_test, b_train, b_test)\n",
    "\n",
    "def test_models(data):\n",
    "    target = data.target\n",
    "    train = data.drop('target', axis = 1)\n",
    "    X_train, X_test, y_train, y_test = train_test_split(train, target, test_size = 0.2, random_state = 42)\n",
    "    methods = [RandomForestClassifier(n_estimators = 100)]\n",
    "    test_methods(methods, X_train, X_test, y_train, y_test)\n",
    "\n",
    "def get_best_params(method, params, data):\n",
    "    target = data.target\n",
    "    train = data.drop('target', axis = 1)\n",
    "    X_train, X_test, y_train, y_test = train_test_split(train, target, test_size = 0.2, random_state = 42)\n",
    "    errors_train, errors_test = aggregate_train_test_errors(method, params, X_train, y_train, X_test, y_test, [log_loss], print_flag=True)\n",
    "    plot_train_test_errors(method, params, errors_train, errors_test)\n",
    "    \n",
    "def print_score(model, metric, X_train, y_train, X_test, y_test):\n",
    "        print(\"Model: %s Metric: %s On test: %f\" % (model.__class__.__name__, metric.__name__, metric(y_test, model.predict_proba(X_test))))\n",
    "        \n",
    "def print_scores(model, metrics, X_train, y_train, X_test, y_test, parameter = None):\n",
    "    for metric in metrics:\n",
    "        if parameter != None:\n",
    "            print(\"%s %s\" % (parameter[0], parameter[1]))\n",
    "            print_score(model, metric, X_train, y_train, X_test, y_test)\n",
    "        else:\n",
    "            print_score(model, metric, X_train, y_train, X_test, y_test)\n",
    "    \n",
    "def aggregate_train_test_errors(model, params, X_train, y_train, X_test, y_test, metrics = [], print_flag = False):\n",
    "    errors_train = {key: {'params': params[key], 'values': []} for key in params.keys()}\n",
    "    errors_test = {key: {'params': params[key], 'values': []}  for key in params.keys()}\n",
    "    base_parameters = model.get_params()\n",
    "    start_time = time.time()\n",
    "    prev_time = start_time\n",
    "    for key, values in params.iteritems():\n",
    "        if isinstance(values, list):\n",
    "            for value in values:\n",
    "                model.set_params(**{key: value})\n",
    "                model.fit(X_train, y_train)\n",
    "                cur_time = time.time()\n",
    "                from_start = datetime.datetime.fromtimestamp(cur_time - start_time + time.timezone).strftime('%H:%M:%S')\n",
    "                from_last = datetime.datetime.fromtimestamp(cur_time - prev_time + time.timezone).strftime('%H:%M:%S')\n",
    "                print from_start + \" (\" + from_last + \")\"\n",
    "                prev_time = cur_time\n",
    "                errors_train[key]['values'].append(model.score(X_train, y_train))\n",
    "                errors_test[key]['values'].append(model.score(X_test, y_test))\n",
    "                if print_flag == True and metrics:\n",
    "                    print_scores(model, metrics, X_train, y_train, X_test, y_test, (key, value))\n",
    "            model.set_params(**base_parameters)\n",
    "        else:\n",
    "            raise Exception(\"Take only list of parameters!\")   \n",
    "    return errors_train, errors_test\n",
    "\n",
    "def plot_train_test_errors(model, model_params, errors_train, errors_test, save = None):\n",
    "    fig, axes = plt.subplots(ncols=len(model_params))\n",
    "    fig.set_size_inches((15,9))\n",
    "    for ind, param in enumerate(model_params.keys()):\n",
    "        if isinstance(errors_train[param]['params'][0], str):\n",
    "            axes[ind].plot(range(len(errors_train[param]['params'])), errors_train[param]['values'], label = 'on train')\n",
    "            axes[ind].plot(range(len(errors_train[param]['params'])), errors_test[param]['values'], label = 'on test')\n",
    "            axes[ind].xaxis.set_ticks(range(len(errors_train[param]['params'])), errors_train[param]['params'])\n",
    "        else:            \n",
    "            axes[ind].plot(errors_train[param]['params'], errors_train[param]['values'], label = 'on train')\n",
    "            axes[ind].plot(errors_train[param]['params'], errors_test[param]['values'], label = 'on test')\n",
    "            axes[ind].xaxis.set_ticks(range(len(errors_train[param]['params'])), errors_train[param]['params'])\n",
    "        axes[ind].set_title(str(param))\n",
    "    plt.legend()\n",
    "    plt.tight_layout()"
   ]
  },
  {
   "cell_type": "code",
   "execution_count": 6,
   "metadata": {
    "collapsed": false,
    "scrolled": true
   },
   "outputs": [
    {
     "name": "stdout",
     "output_type": "stream",
     "text": [
      "00:00:39 (00:00:39)\n",
      "n_estimators 10\n",
      "Model: GradientBoostingClassifier Metric: log_loss On test: 1.067229\n",
      "00:03:58 (00:03:19)\n",
      "n_estimators 50\n",
      "Model: GradientBoostingClassifier Metric: log_loss On test: 0.665423\n",
      "00:13:48 (00:09:50)\n",
      "n_estimators 150\n",
      "Model: GradientBoostingClassifier Metric: log_loss On test: 0.572966\n",
      "00:33:17 (00:19:28)\n",
      "n_estimators 300\n",
      "Model: GradientBoostingClassifier Metric: log_loss On test: 0.534792\n",
      "01:02:10 (00:28:52)\n",
      "n_estimators 450\n",
      "Model: GradientBoostingClassifier Metric: log_loss On test: 0.519510\n",
      "01:40:33 (00:38:23)\n",
      "n_estimators 600\n",
      "Model: GradientBoostingClassifier Metric: log_loss On test: 0.510731\n",
      "01:47:26 (00:06:53)\n",
      "min_samples_split 1\n",
      "Model: GradientBoostingClassifier Metric: log_loss On test: 0.599448\n",
      "01:54:02 (00:06:35)\n",
      "min_samples_split 5\n",
      "Model: GradientBoostingClassifier Metric: log_loss On test: 0.595559\n",
      "02:00:38 (00:06:36)\n",
      "min_samples_split 9\n",
      "Model: GradientBoostingClassifier Metric: log_loss On test: 0.595549\n",
      "02:07:14 (00:06:35)\n",
      "min_samples_split 13\n",
      "Model: GradientBoostingClassifier Metric: log_loss On test: 0.597087\n",
      "02:13:50 (00:06:36)\n",
      "min_samples_split 17\n",
      "Model: GradientBoostingClassifier Metric: log_loss On test: 0.596392\n",
      "02:20:31 (00:06:40)\n",
      "min_samples_split 21\n",
      "Model: GradientBoostingClassifier Metric: log_loss On test: 0.595439\n",
      "02:27:08 (00:06:36)\n",
      "min_samples_split 25\n",
      "Model: GradientBoostingClassifier Metric: log_loss On test: 0.598568\n",
      "02:29:21 (00:02:13)\n",
      "max_depth 1\n",
      "Model: GradientBoostingClassifier Metric: log_loss On test: 0.813340\n",
      "02:42:39 (00:13:17)\n",
      "max_depth 5\n",
      "Model: GradientBoostingClassifier Metric: log_loss On test: 0.528087\n",
      "03:34:11 (00:51:31)\n",
      "max_depth 9\n",
      "Model: GradientBoostingClassifier Metric: log_loss On test: 0.508652\n",
      "06:12:39 (02:38:28)\n",
      "max_depth 13\n",
      "Model: GradientBoostingClassifier Metric: log_loss On test: 0.686283\n"
     ]
    },
    {
     "ename": "KeyboardInterrupt",
     "evalue": "",
     "output_type": "error",
     "traceback": [
      "\u001b[1;31m---------------------------------------------------------------------------\u001b[0m",
      "\u001b[1;31mKeyboardInterrupt\u001b[0m                         Traceback (most recent call last)",
      "\u001b[1;32m<ipython-input-6-09fdc0d7c33b>\u001b[0m in \u001b[0;36m<module>\u001b[1;34m()\u001b[0m\n\u001b[0;32m      5\u001b[0m              \"max_features\": range(10, 100, 10)}\n\u001b[0;32m      6\u001b[0m \u001b[1;33m\u001b[0m\u001b[0m\n\u001b[1;32m----> 7\u001b[1;33m \u001b[0mget_best_params\u001b[0m\u001b[1;33m(\u001b[0m\u001b[0mGradientBoostingClassifier\u001b[0m\u001b[1;33m(\u001b[0m\u001b[1;33m)\u001b[0m\u001b[1;33m,\u001b[0m \u001b[0mgb_params\u001b[0m\u001b[1;33m,\u001b[0m \u001b[0mtrain_data\u001b[0m\u001b[1;33m)\u001b[0m\u001b[1;33m\u001b[0m\u001b[0m\n\u001b[0m",
      "\u001b[1;32m<ipython-input-3-f8647162ef19>\u001b[0m in \u001b[0;36mget_best_params\u001b[1;34m(method, params, data)\u001b[0m\n\u001b[0;32m     21\u001b[0m     \u001b[0mtrain\u001b[0m \u001b[1;33m=\u001b[0m \u001b[0mdata\u001b[0m\u001b[1;33m.\u001b[0m\u001b[0mdrop\u001b[0m\u001b[1;33m(\u001b[0m\u001b[1;34m'target'\u001b[0m\u001b[1;33m,\u001b[0m \u001b[0maxis\u001b[0m \u001b[1;33m=\u001b[0m \u001b[1;36m1\u001b[0m\u001b[1;33m)\u001b[0m\u001b[1;33m\u001b[0m\u001b[0m\n\u001b[0;32m     22\u001b[0m     \u001b[0mX_train\u001b[0m\u001b[1;33m,\u001b[0m \u001b[0mX_test\u001b[0m\u001b[1;33m,\u001b[0m \u001b[0my_train\u001b[0m\u001b[1;33m,\u001b[0m \u001b[0my_test\u001b[0m \u001b[1;33m=\u001b[0m \u001b[0mtrain_test_split\u001b[0m\u001b[1;33m(\u001b[0m\u001b[0mtrain\u001b[0m\u001b[1;33m,\u001b[0m \u001b[0mtarget\u001b[0m\u001b[1;33m,\u001b[0m \u001b[0mtest_size\u001b[0m \u001b[1;33m=\u001b[0m \u001b[1;36m0.2\u001b[0m\u001b[1;33m,\u001b[0m \u001b[0mrandom_state\u001b[0m \u001b[1;33m=\u001b[0m \u001b[1;36m42\u001b[0m\u001b[1;33m)\u001b[0m\u001b[1;33m\u001b[0m\u001b[0m\n\u001b[1;32m---> 23\u001b[1;33m     \u001b[0merrors_train\u001b[0m\u001b[1;33m,\u001b[0m \u001b[0merrors_test\u001b[0m \u001b[1;33m=\u001b[0m \u001b[0maggregate_train_test_errors\u001b[0m\u001b[1;33m(\u001b[0m\u001b[0mmethod\u001b[0m\u001b[1;33m,\u001b[0m \u001b[0mparams\u001b[0m\u001b[1;33m,\u001b[0m \u001b[0mX_train\u001b[0m\u001b[1;33m,\u001b[0m \u001b[0my_train\u001b[0m\u001b[1;33m,\u001b[0m \u001b[0mX_test\u001b[0m\u001b[1;33m,\u001b[0m \u001b[0my_test\u001b[0m\u001b[1;33m,\u001b[0m \u001b[1;33m[\u001b[0m\u001b[0mlog_loss\u001b[0m\u001b[1;33m]\u001b[0m\u001b[1;33m,\u001b[0m \u001b[0mprint_flag\u001b[0m\u001b[1;33m=\u001b[0m\u001b[0mTrue\u001b[0m\u001b[1;33m)\u001b[0m\u001b[1;33m\u001b[0m\u001b[0m\n\u001b[0m\u001b[0;32m     24\u001b[0m     \u001b[0mplot_train_test_errors\u001b[0m\u001b[1;33m(\u001b[0m\u001b[0mmethod\u001b[0m\u001b[1;33m,\u001b[0m \u001b[0mparams\u001b[0m\u001b[1;33m,\u001b[0m \u001b[0merrors_train\u001b[0m\u001b[1;33m,\u001b[0m \u001b[0merrors_test\u001b[0m\u001b[1;33m)\u001b[0m\u001b[1;33m\u001b[0m\u001b[0m\n\u001b[0;32m     25\u001b[0m \u001b[1;33m\u001b[0m\u001b[0m\n",
      "\u001b[1;32m<ipython-input-3-f8647162ef19>\u001b[0m in \u001b[0;36maggregate_train_test_errors\u001b[1;34m(model, params, X_train, y_train, X_test, y_test, metrics, print_flag)\u001b[0m\n\u001b[0;32m     45\u001b[0m             \u001b[1;32mfor\u001b[0m \u001b[0mvalue\u001b[0m \u001b[1;32min\u001b[0m \u001b[0mvalues\u001b[0m\u001b[1;33m:\u001b[0m\u001b[1;33m\u001b[0m\u001b[0m\n\u001b[0;32m     46\u001b[0m                 \u001b[0mmodel\u001b[0m\u001b[1;33m.\u001b[0m\u001b[0mset_params\u001b[0m\u001b[1;33m(\u001b[0m\u001b[1;33m**\u001b[0m\u001b[1;33m{\u001b[0m\u001b[0mkey\u001b[0m\u001b[1;33m:\u001b[0m \u001b[0mvalue\u001b[0m\u001b[1;33m}\u001b[0m\u001b[1;33m)\u001b[0m\u001b[1;33m\u001b[0m\u001b[0m\n\u001b[1;32m---> 47\u001b[1;33m                 \u001b[0mmodel\u001b[0m\u001b[1;33m.\u001b[0m\u001b[0mfit\u001b[0m\u001b[1;33m(\u001b[0m\u001b[0mX_train\u001b[0m\u001b[1;33m,\u001b[0m \u001b[0my_train\u001b[0m\u001b[1;33m)\u001b[0m\u001b[1;33m\u001b[0m\u001b[0m\n\u001b[0m\u001b[0;32m     48\u001b[0m                 \u001b[0mcur_time\u001b[0m \u001b[1;33m=\u001b[0m \u001b[0mtime\u001b[0m\u001b[1;33m.\u001b[0m\u001b[0mtime\u001b[0m\u001b[1;33m(\u001b[0m\u001b[1;33m)\u001b[0m\u001b[1;33m\u001b[0m\u001b[0m\n\u001b[0;32m     49\u001b[0m                 \u001b[0mfrom_start\u001b[0m \u001b[1;33m=\u001b[0m \u001b[0mdatetime\u001b[0m\u001b[1;33m.\u001b[0m\u001b[0mdatetime\u001b[0m\u001b[1;33m.\u001b[0m\u001b[0mfromtimestamp\u001b[0m\u001b[1;33m(\u001b[0m\u001b[0mcur_time\u001b[0m \u001b[1;33m-\u001b[0m \u001b[0mstart_time\u001b[0m \u001b[1;33m+\u001b[0m \u001b[0mtime\u001b[0m\u001b[1;33m.\u001b[0m\u001b[0mtimezone\u001b[0m\u001b[1;33m)\u001b[0m\u001b[1;33m.\u001b[0m\u001b[0mstrftime\u001b[0m\u001b[1;33m(\u001b[0m\u001b[1;34m'%H:%M:%S'\u001b[0m\u001b[1;33m)\u001b[0m\u001b[1;33m\u001b[0m\u001b[0m\n",
      "\u001b[1;32m/home/pinguinson/anaconda/lib/python2.7/site-packages/sklearn/ensemble/gradient_boosting.pyc\u001b[0m in \u001b[0;36mfit\u001b[1;34m(self, X, y, monitor)\u001b[0m\n\u001b[0;32m   1128\u001b[0m         \u001b[0mself\u001b[0m\u001b[1;33m.\u001b[0m\u001b[0mclasses_\u001b[0m\u001b[1;33m,\u001b[0m \u001b[0my\u001b[0m \u001b[1;33m=\u001b[0m \u001b[0mnp\u001b[0m\u001b[1;33m.\u001b[0m\u001b[0munique\u001b[0m\u001b[1;33m(\u001b[0m\u001b[0my\u001b[0m\u001b[1;33m,\u001b[0m \u001b[0mreturn_inverse\u001b[0m\u001b[1;33m=\u001b[0m\u001b[0mTrue\u001b[0m\u001b[1;33m)\u001b[0m\u001b[1;33m\u001b[0m\u001b[0m\n\u001b[0;32m   1129\u001b[0m         \u001b[0mself\u001b[0m\u001b[1;33m.\u001b[0m\u001b[0mn_classes_\u001b[0m \u001b[1;33m=\u001b[0m \u001b[0mlen\u001b[0m\u001b[1;33m(\u001b[0m\u001b[0mself\u001b[0m\u001b[1;33m.\u001b[0m\u001b[0mclasses_\u001b[0m\u001b[1;33m)\u001b[0m\u001b[1;33m\u001b[0m\u001b[0m\n\u001b[1;32m-> 1130\u001b[1;33m         \u001b[1;32mreturn\u001b[0m \u001b[0msuper\u001b[0m\u001b[1;33m(\u001b[0m\u001b[0mGradientBoostingClassifier\u001b[0m\u001b[1;33m,\u001b[0m \u001b[0mself\u001b[0m\u001b[1;33m)\u001b[0m\u001b[1;33m.\u001b[0m\u001b[0mfit\u001b[0m\u001b[1;33m(\u001b[0m\u001b[0mX\u001b[0m\u001b[1;33m,\u001b[0m \u001b[0my\u001b[0m\u001b[1;33m,\u001b[0m \u001b[0mmonitor\u001b[0m\u001b[1;33m)\u001b[0m\u001b[1;33m\u001b[0m\u001b[0m\n\u001b[0m\u001b[0;32m   1131\u001b[0m \u001b[1;33m\u001b[0m\u001b[0m\n\u001b[0;32m   1132\u001b[0m     \u001b[1;32mdef\u001b[0m \u001b[0m_score_to_proba\u001b[0m\u001b[1;33m(\u001b[0m\u001b[0mself\u001b[0m\u001b[1;33m,\u001b[0m \u001b[0mscore\u001b[0m\u001b[1;33m)\u001b[0m\u001b[1;33m:\u001b[0m\u001b[1;33m\u001b[0m\u001b[0m\n",
      "\u001b[1;32m/home/pinguinson/anaconda/lib/python2.7/site-packages/sklearn/ensemble/gradient_boosting.pyc\u001b[0m in \u001b[0;36mfit\u001b[1;34m(self, X, y, monitor)\u001b[0m\n\u001b[0;32m    781\u001b[0m         \u001b[1;31m# fit the boosting stages\u001b[0m\u001b[1;33m\u001b[0m\u001b[1;33m\u001b[0m\u001b[0m\n\u001b[0;32m    782\u001b[0m         n_stages = self._fit_stages(X, y, y_pred, random_state,\n\u001b[1;32m--> 783\u001b[1;33m                                     begin_at_stage, monitor)\n\u001b[0m\u001b[0;32m    784\u001b[0m         \u001b[1;31m# change shape of arrays after fit (early-stopping or additional ests)\u001b[0m\u001b[1;33m\u001b[0m\u001b[1;33m\u001b[0m\u001b[0m\n\u001b[0;32m    785\u001b[0m         \u001b[1;32mif\u001b[0m \u001b[0mn_stages\u001b[0m \u001b[1;33m!=\u001b[0m \u001b[0mself\u001b[0m\u001b[1;33m.\u001b[0m\u001b[0mestimators_\u001b[0m\u001b[1;33m.\u001b[0m\u001b[0mshape\u001b[0m\u001b[1;33m[\u001b[0m\u001b[1;36m0\u001b[0m\u001b[1;33m]\u001b[0m\u001b[1;33m:\u001b[0m\u001b[1;33m\u001b[0m\u001b[0m\n",
      "\u001b[1;32m/home/pinguinson/anaconda/lib/python2.7/site-packages/sklearn/ensemble/gradient_boosting.pyc\u001b[0m in \u001b[0;36m_fit_stages\u001b[1;34m(self, X, y, y_pred, random_state, begin_at_stage, monitor)\u001b[0m\n\u001b[0;32m    833\u001b[0m             \u001b[1;31m# fit next stage of trees\u001b[0m\u001b[1;33m\u001b[0m\u001b[1;33m\u001b[0m\u001b[0m\n\u001b[0;32m    834\u001b[0m             y_pred = self._fit_stage(i, X, y, y_pred, sample_mask,\n\u001b[1;32m--> 835\u001b[1;33m                                      criterion, splitter, random_state)\n\u001b[0m\u001b[0;32m    836\u001b[0m \u001b[1;33m\u001b[0m\u001b[0m\n\u001b[0;32m    837\u001b[0m             \u001b[1;31m# track deviance (= loss)\u001b[0m\u001b[1;33m\u001b[0m\u001b[1;33m\u001b[0m\u001b[0m\n",
      "\u001b[1;32m/home/pinguinson/anaconda/lib/python2.7/site-packages/sklearn/ensemble/gradient_boosting.pyc\u001b[0m in \u001b[0;36m_fit_stage\u001b[1;34m(self, i, X, y, y_pred, sample_mask, criterion, splitter, random_state)\u001b[0m\n\u001b[0;32m    570\u001b[0m \u001b[1;33m\u001b[0m\u001b[0m\n\u001b[0;32m    571\u001b[0m             tree.fit(X, residual,\n\u001b[1;32m--> 572\u001b[1;33m                      sample_weight=sample_weight, check_input=False)\n\u001b[0m\u001b[0;32m    573\u001b[0m \u001b[1;33m\u001b[0m\u001b[0m\n\u001b[0;32m    574\u001b[0m             \u001b[1;31m# update tree leaves\u001b[0m\u001b[1;33m\u001b[0m\u001b[1;33m\u001b[0m\u001b[0m\n",
      "\u001b[1;32m/home/pinguinson/anaconda/lib/python2.7/site-packages/sklearn/tree/tree.pyc\u001b[0m in \u001b[0;36mfit\u001b[1;34m(self, X, y, sample_mask, X_argsorted, check_input, sample_weight)\u001b[0m\n\u001b[0;32m    265\u001b[0m                                            max_leaf_nodes)\n\u001b[0;32m    266\u001b[0m \u001b[1;33m\u001b[0m\u001b[0m\n\u001b[1;32m--> 267\u001b[1;33m         \u001b[0mbuilder\u001b[0m\u001b[1;33m.\u001b[0m\u001b[0mbuild\u001b[0m\u001b[1;33m(\u001b[0m\u001b[0mself\u001b[0m\u001b[1;33m.\u001b[0m\u001b[0mtree_\u001b[0m\u001b[1;33m,\u001b[0m \u001b[0mX\u001b[0m\u001b[1;33m,\u001b[0m \u001b[0my\u001b[0m\u001b[1;33m,\u001b[0m \u001b[0msample_weight\u001b[0m\u001b[1;33m)\u001b[0m\u001b[1;33m\u001b[0m\u001b[0m\n\u001b[0m\u001b[0;32m    268\u001b[0m \u001b[1;33m\u001b[0m\u001b[0m\n\u001b[0;32m    269\u001b[0m         \u001b[1;32mif\u001b[0m \u001b[0mself\u001b[0m\u001b[1;33m.\u001b[0m\u001b[0mn_outputs_\u001b[0m \u001b[1;33m==\u001b[0m \u001b[1;36m1\u001b[0m\u001b[1;33m:\u001b[0m\u001b[1;33m\u001b[0m\u001b[0m\n",
      "\u001b[1;31mKeyboardInterrupt\u001b[0m: "
     ]
    }
   ],
   "source": [
    "gb_params = {\"n_estimators\": [10, 50, 150, 300, 450, 600], \n",
    "             \"max_depth\": range(1, 26, 4), \n",
    "             \"min_samples_split\": range(1, 26, 4), \n",
    "             \"min_samples_leaf\": range(1, 26, 4), \n",
    "             \"max_features\": range(10, 100, 10)}\n",
    "\n",
    "get_best_params(GradientBoostingClassifier(), gb_params, train_data)"
   ]
  },
  {
   "cell_type": "code",
   "execution_count": 7,
   "metadata": {
    "collapsed": true
   },
   "outputs": [],
   "source": [
    "gb_best_params = {\"n_estimators\": 600, \n",
    "                  \"max_depth\": 9}"
   ]
  },
  {
   "cell_type": "code",
   "execution_count": null,
   "metadata": {
    "collapsed": true
   },
   "outputs": [],
   "source": [
    "gb_params = {\"min_samples_leaf\": range(1, 26, 4), \n",
    "             \"max_features\": range(10, 100, 10)}\n",
    "\n",
    "get_best_params(GradientBoostingClassifier(), gb_params, train_data)"
   ]
  }
 ],
 "metadata": {
  "kernelspec": {
   "display_name": "Python 2",
   "language": "python",
   "name": "python2"
  },
  "language_info": {
   "codemirror_mode": {
    "name": "ipython",
    "version": 2
   },
   "file_extension": ".py",
   "mimetype": "text/x-python",
   "name": "python",
   "nbconvert_exporter": "python",
   "pygments_lexer": "ipython2",
   "version": "2.7.9"
  }
 },
 "nbformat": 4,
 "nbformat_minor": 0
}
