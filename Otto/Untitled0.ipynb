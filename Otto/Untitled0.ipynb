{
 "metadata": {
  "name": "",
  "signature": "sha256:5e1e461b8acfbfe68bb50864d2a4137089ffd9a2079424118524b0d491e4da77"
 },
 "nbformat": 3,
 "nbformat_minor": 0,
 "worksheets": []
}