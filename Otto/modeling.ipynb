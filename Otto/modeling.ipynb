{
 "metadata": {
  "name": "",
  "signature": "sha256:2d56e9ecd8dac3b69a63161e28dbfefd08febb99418c7f5650e0e3ee2f6d7c9d"
 },
 "nbformat": 3,
 "nbformat_minor": 0,
 "worksheets": [
  {
   "cells": [
    {
     "cell_type": "code",
     "collapsed": false,
     "input": [
      "%matplotlib inline\n",
      "%load_ext autoreload\n",
      "%autoreload 5\n",
      "%autosave 15\n",
      "\n",
      "import os\n",
      "import sys\n",
      "\n",
      "import sklearn as sk\n",
      "import numpy as np\n",
      "import scipy as sp\n",
      "import pandas as pd\n",
      "import matplotlib as mpl\n",
      "import matplotlib.pyplot as plt\n",
      "\n",
      "from sklearn.ensemble import RandomForestClassifier, GradientBoostingClassifier, AdaBoostClassifier\n",
      "from sklearn.tree import DecisionTreeClassifier \n",
      "from sklearn.linear_model import LogisticRegression\n",
      "from sklearn.svm import LinearSVC, SVC\n",
      "from sklearn.grid_search import GridSearchCV\n",
      "\n",
      "from sklearn.metrics import log_loss, accuracy_score"
     ],
     "language": "python",
     "metadata": {},
     "outputs": [
      {
       "javascript": [
        "IPython.notebook.set_autosave_interval(15000)"
       ],
       "metadata": {},
       "output_type": "display_data"
      },
      {
       "output_type": "stream",
       "stream": "stdout",
       "text": [
        "Autosaving every 15 seconds\n"
       ]
      }
     ],
     "prompt_number": 1
    },
    {
     "cell_type": "code",
     "collapsed": false,
     "input": [
      "def print_score(model, metric, X_train, y_train, X_test, y_test):\n",
      "    if metric.__name__ in [\"accuracy_score\"]:\n",
      "        print(\"Model: %s Metric: %s On train: %f\" % (model.__class__.__name__, metric.__name__, metric(y_train, model.predict(X_train))))\n",
      "        print(\"Model: %s Metric: %s On test: %f\" % (model.__class__.__name__, metric.__name__, metric(y_test, model.predict(X_test))))\n",
      "    else:\n",
      "        print(\"Model: %s Metric: %s On train: %f\" % (model.__class__.__name__, metric.__name__, metric(y_train, model.predict_proba(X_train))))\n",
      "        print(\"Model: %s Metric: %s On test: %f\" % (model.__class__.__name__, metric.__name__, metric(y_test, model.predict_proba(X_test))))\n",
      "        \n",
      "def print_scores(model, metrics, X_train, y_train, X_test, y_test, parameter = None):\n",
      "    for metric in metrics:\n",
      "        if parameter != None:\n",
      "            print(\"%s %s\" % (parameter[0], parameter[1]))\n",
      "            print_score(model, metric, X_train, y_train, X_test, y_test)\n",
      "        else:\n",
      "            print_score(model, metric, X_train, y_train, X_test, y_test)\n",
      "    \n",
      "def aggregate_train_test_errors(model, params, X_train, y_train, X_test, y_test, metrics = [], print_flag = False):\n",
      "    errors_train = {key: {'params': params[key], 'values': []} for key in params.keys()}\n",
      "    errors_test = {key: {'params': params[key], 'values': []}  for key in params.keys()}\n",
      "    base_parameters = model.get_params()\n",
      "    for key, values in params.iteritems():\n",
      "        if isinstance(values, list):\n",
      "            for value in values:\n",
      "                model.set_params(**{key: value})\n",
      "                model.fit(X_train, y_train)\n",
      "                errors_train[key]['values'].append(model.score(X_train, y_train))\n",
      "                errors_test[key]['values'].append(model.score(X_test, y_test))\n",
      "                if print_flag == True and metrics:\n",
      "                    print_scores(model, metrics, X_train, y_train, X_test, y_test, (key, value))\n",
      "            model.set_params(**base_parameters)\n",
      "        else:\n",
      "            raise Exception(\"Take only list of parameters!\")   \n",
      "    return errors_train, errors_test\n",
      "\n",
      "def plot_train_test_errors(model, model_params, errors_train, errors_test, save = None):\n",
      "    fig, axes = plt.subplots(ncols=len(model_params))\n",
      "    fig.set_size_inches((15,9))\n",
      "    for ind, param in enumerate(model_params.keys()):\n",
      "        if isinstance(errors_train[param]['params'][0], str):\n",
      "            axes[ind].plot(range(len(errors_train[param]['params'])), errors_train[param]['values'], label = 'on train')\n",
      "            axes[ind].plot(range(len(errors_train[param]['params'])), errors_test[param]['values'], label = 'on test')\n",
      "            axes[ind].xaxis.set_ticks(range(len(errors_train[param]['params'])), errors_train[param]['params'])\n",
      "        else:            \n",
      "            axes[ind].plot(errors_train[param]['params'], errors_train[param]['values'], label = 'on train')\n",
      "            axes[ind].plot(errors_train[param]['params'], errors_test[param]['values'], label = 'on test')\n",
      "            axes[ind].xaxis.set_ticks(range(len(errors_train[param]['params'])), errors_train[param]['params'])\n",
      "        axes[ind].set_title(str(param))\n",
      "    plt.legend()\n",
      "    plt.tight_layout()"
     ],
     "language": "python",
     "metadata": {},
     "outputs": [],
     "prompt_number": 2
    },
    {
     "cell_type": "code",
     "collapsed": false,
     "input": [
      "# Load data\n",
      "\n",
      "ROOT = r'D:\\Projects\\Kaggle\\OttoGroup'\n",
      "DATA = ROOT + \"/data\"\n",
      "\n",
      "data_train = pd.read_csv(DATA + \"\\\\\" + \"train.csv\")\n",
      "data_train = data_train.drop('id', axis=1)\n",
      "\n",
      "data_test = pd.read_csv(DATA + \"\\\\\" + \"test.csv\")\n",
      "data_test_id = data_test['id']\n",
      "data_test = data_test.drop('id', axis=1)\n",
      "\n",
      "data_train.target = data_train.target.apply(lambda x: int(x.split(\"_\")[1]))"
     ],
     "language": "python",
     "metadata": {},
     "outputs": [],
     "prompt_number": 3
    },
    {
     "cell_type": "code",
     "collapsed": false,
     "input": [
      "# train & test\n",
      "train_target = data_train.target\n",
      "train = data_train.drop('target', axis=1)\n",
      "\n",
      "X_train, X_test, y_train, y_test = sk.cross_validation.train_test_split(train, train_target, test_size=0.2, random_state=23)\n",
      "print(X_train.shape, y_train.shape)\n",
      "print(X_test.shape, y_test.shape)"
     ],
     "language": "python",
     "metadata": {},
     "outputs": [
      {
       "output_type": "stream",
       "stream": "stdout",
       "text": [
        "((49502L, 93L), (49502L,))\n",
        "((12376L, 93L), (12376L,))\n"
       ]
      }
     ],
     "prompt_number": 4
    },
    {
     "cell_type": "code",
     "collapsed": false,
     "input": [
      "log_reg = RandomForestClassifier()\n",
      "log_reg.fit(X_train, y_train)\n",
      "\n",
      "print(log_reg.score(X_train, y_train))\n",
      "print(log_reg.score(X_test, y_test))"
     ],
     "language": "python",
     "metadata": {},
     "outputs": [
      {
       "ename": "NameError",
       "evalue": "name 'RandomForestClassifier' is not defined",
       "output_type": "pyerr",
       "traceback": [
        "\u001b[1;31m---------------------------------------------------------------------------\u001b[0m\n\u001b[1;31mNameError\u001b[0m                                 Traceback (most recent call last)",
        "\u001b[1;32m<ipython-input-1-9a651acef667>\u001b[0m in \u001b[0;36m<module>\u001b[1;34m()\u001b[0m\n\u001b[1;32m----> 1\u001b[1;33m \u001b[0mlog_reg\u001b[0m \u001b[1;33m=\u001b[0m \u001b[0mRandomForestClassifier\u001b[0m\u001b[1;33m(\u001b[0m\u001b[1;33m)\u001b[0m\u001b[1;33m\u001b[0m\u001b[0m\n\u001b[0m\u001b[0;32m      2\u001b[0m \u001b[0mlog_reg\u001b[0m\u001b[1;33m.\u001b[0m\u001b[0mfit\u001b[0m\u001b[1;33m(\u001b[0m\u001b[0mX_train\u001b[0m\u001b[1;33m,\u001b[0m \u001b[0my_train\u001b[0m\u001b[1;33m)\u001b[0m\u001b[1;33m\u001b[0m\u001b[0m\n\u001b[0;32m      3\u001b[0m \u001b[1;33m\u001b[0m\u001b[0m\n\u001b[0;32m      4\u001b[0m \u001b[1;32mprint\u001b[0m\u001b[1;33m(\u001b[0m\u001b[0mlog_reg\u001b[0m\u001b[1;33m.\u001b[0m\u001b[0mscore\u001b[0m\u001b[1;33m(\u001b[0m\u001b[0mX_train\u001b[0m\u001b[1;33m,\u001b[0m \u001b[0my_train\u001b[0m\u001b[1;33m)\u001b[0m\u001b[1;33m)\u001b[0m\u001b[1;33m\u001b[0m\u001b[0m\n\u001b[0;32m      5\u001b[0m \u001b[1;32mprint\u001b[0m\u001b[1;33m(\u001b[0m\u001b[0mlog_reg\u001b[0m\u001b[1;33m.\u001b[0m\u001b[0mscore\u001b[0m\u001b[1;33m(\u001b[0m\u001b[0mX_test\u001b[0m\u001b[1;33m,\u001b[0m \u001b[0my_test\u001b[0m\u001b[1;33m)\u001b[0m\u001b[1;33m)\u001b[0m\u001b[1;33m\u001b[0m\u001b[0m\n",
        "\u001b[1;31mNameError\u001b[0m: name 'RandomForestClassifier' is not defined"
       ]
      }
     ],
     "prompt_number": 1
    },
    {
     "cell_type": "code",
     "collapsed": false,
     "input": [
      "log_reg_params = {'C': [0.001, 0.01, 0.1, 1, 10, 100, 200, 1000],\n",
      "                  'penalty': ['l1', 'l2']}\n",
      "errors_train, errors_test = aggregate_train_test_errors(LogisticRegression(), log_reg_params, X_train, y_train, X_test, y_test, [accuracy_score], print_flag=True)"
     ],
     "language": "python",
     "metadata": {},
     "outputs": [
      {
       "output_type": "stream",
       "stream": "stdout",
       "text": [
        "penalty l1\n",
        "Model: LogisticRegression Metric: accuracy_score On train: 0.749424\n",
        "Model: LogisticRegression Metric: accuracy_score On test: 0.745637\n",
        "penalty l2"
       ]
      },
      {
       "output_type": "stream",
       "stream": "stdout",
       "text": [
        "\n",
        "Model: LogisticRegression Metric: accuracy_score On train: 0.729566\n",
        "Model: LogisticRegression Metric: accuracy_score On test: 0.726002\n",
        "C 0.001"
       ]
      },
      {
       "output_type": "stream",
       "stream": "stdout",
       "text": [
        "\n",
        "Model: LogisticRegression Metric: accuracy_score On train: 0.457093\n",
        "Model: LogisticRegression Metric: accuracy_score On test: 0.458953\n",
        "C 0.01"
       ]
      },
      {
       "output_type": "stream",
       "stream": "stdout",
       "text": [
        "\n",
        "Model: LogisticRegression Metric: accuracy_score On train: 0.567735\n",
        "Model: LogisticRegression Metric: accuracy_score On test: 0.571267\n",
        "C 0.1"
       ]
      },
      {
       "output_type": "stream",
       "stream": "stdout",
       "text": [
        "\n",
        "Model: LogisticRegression Metric: accuracy_score On train: 0.694033\n",
        "Model: LogisticRegression Metric: accuracy_score On test: 0.690288\n",
        "C 1"
       ]
      },
      {
       "output_type": "stream",
       "stream": "stdout",
       "text": [
        "\n",
        "Model: LogisticRegression Metric: accuracy_score On train: 0.729566\n",
        "Model: LogisticRegression Metric: accuracy_score On test: 0.726002\n",
        "C 10"
       ]
      },
      {
       "output_type": "stream",
       "stream": "stdout",
       "text": [
        "\n",
        "Model: LogisticRegression Metric: accuracy_score On train: 0.749606\n",
        "Model: LogisticRegression Metric: accuracy_score On test: 0.745314\n",
        "C 100"
       ]
      },
      {
       "output_type": "stream",
       "stream": "stdout",
       "text": [
        "\n",
        "Model: LogisticRegression Metric: accuracy_score On train: 0.756333\n",
        "Model: LogisticRegression Metric: accuracy_score On test: 0.751939\n",
        "C 200"
       ]
      },
      {
       "output_type": "stream",
       "stream": "stdout",
       "text": [
        "\n",
        "Model: LogisticRegression Metric: accuracy_score On train: 0.757485\n",
        "Model: LogisticRegression Metric: accuracy_score On test: 0.752182\n",
        "C 1000"
       ]
      },
      {
       "output_type": "stream",
       "stream": "stdout",
       "text": [
        "\n",
        "Model: LogisticRegression Metric: accuracy_score On train: 0.758596\n",
        "Model: LogisticRegression Metric: accuracy_score On test: 0.752747\n"
       ]
      }
     ],
     "prompt_number": 9
    },
    {
     "cell_type": "code",
     "collapsed": false,
     "input": [
      "plt.plot(errors_train['C']['params'], errors_train['C']['values'], label = 'on train')\n",
      "plt.plot(errors_test['C']['params'], errors_test['C']['values'], label = 'on test')\n",
      "plt.legend()"
     ],
     "language": "python",
     "metadata": {},
     "outputs": [
      {
       "metadata": {},
       "output_type": "pyout",
       "prompt_number": 10,
       "text": [
        "<matplotlib.legend.Legend at 0xd97b7b8>"
       ]
      },
      {
       "metadata": {},
       "output_type": "display_data",
       "png": "[encoded data removed]",
       "text": [
        "<matplotlib.figure.Figure at 0x412c550>"
       ]
      }
     ],
     "prompt_number": 10
    },
    {
     "cell_type": "code",
     "collapsed": false,
     "input": [
      "rf_params = {\"n_estimators\": [10,30,50,70,100,150,200,250,300,350,400,450,500,550,600], \n",
      "             \"criterion\": [\"gini\", \"entropy\"], \n",
      "             \"max_depth\": range(1,26), \n",
      "             \"min_samples_split\": range(1,26), \n",
      "             \"min_samples_leaf\": range(1,26), \n",
      "             \"max_features\": range(10, 100, 10)}"
     ],
     "language": "python",
     "metadata": {},
     "outputs": [],
     "prompt_number": 11
    },
    {
     "cell_type": "code",
     "collapsed": false,
     "input": [
      "errors_train, errors_test = aggregate_train_test_errors(RandomForestClassifier(), rf_params, X_train, y_train, X_test, y_test, [accuracy_score], print_flag=True)"
     ],
     "language": "python",
     "metadata": {},
     "outputs": [
      {
       "output_type": "stream",
       "stream": "stdout",
       "text": [
        "min_samples_leaf 1\n",
        "Model: RandomForestClassifier Metric: accuracy_score On train: 0.992445"
       ]
      },
      {
       "output_type": "stream",
       "stream": "stdout",
       "text": [
        "\n",
        "Model: RandomForestClassifier Metric: accuracy_score On test: 0.779089\n",
        "min_samples_leaf 2"
       ]
      },
      {
       "output_type": "stream",
       "stream": "stdout",
       "text": [
        "\n",
        "Model: RandomForestClassifier Metric: accuracy_score On train: 0.960385"
       ]
      },
      {
       "output_type": "stream",
       "stream": "stdout",
       "text": [
        "\n",
        "Model: RandomForestClassifier Metric: accuracy_score On test: 0.784583\n",
        "min_samples_leaf 3"
       ]
      },
      {
       "output_type": "stream",
       "stream": "stdout",
       "text": [
        "\n",
        "Model: RandomForestClassifier Metric: accuracy_score On train: 0.925902"
       ]
      },
      {
       "output_type": "stream",
       "stream": "stdout",
       "text": [
        "\n",
        "Model: RandomForestClassifier Metric: accuracy_score On test: 0.779735\n",
        "min_samples_leaf 4"
       ]
      },
      {
       "output_type": "stream",
       "stream": "stdout",
       "text": [
        "\n",
        "Model: RandomForestClassifier Metric: accuracy_score On train: 0.896752"
       ]
      },
      {
       "output_type": "stream",
       "stream": "stdout",
       "text": [
        "\n",
        "Model: RandomForestClassifier Metric: accuracy_score On test: 0.774968"
       ]
      },
      {
       "output_type": "stream",
       "stream": "stdout",
       "text": [
        "\n",
        "min_samples_leaf 5"
       ]
      },
      {
       "output_type": "stream",
       "stream": "stdout",
       "text": [
        "\n",
        "Model: RandomForestClassifier Metric: accuracy_score On train: 0.876429"
       ]
      },
      {
       "output_type": "stream",
       "stream": "stdout",
       "text": [
        "\n",
        "Model: RandomForestClassifier Metric: accuracy_score On test: 0.777311\n",
        "min_samples_leaf 6"
       ]
      },
      {
       "output_type": "stream",
       "stream": "stdout",
       "text": [
        "\n",
        "Model: RandomForestClassifier Metric: accuracy_score On train: 0.862591"
       ]
      },
      {
       "output_type": "stream",
       "stream": "stdout",
       "text": [
        "\n",
        "Model: RandomForestClassifier Metric: accuracy_score On test: 0.773109\n",
        "min_samples_leaf 7"
       ]
      },
      {
       "output_type": "stream",
       "stream": "stdout",
       "text": [
        "\n",
        "Model: RandomForestClassifier Metric: accuracy_score On train: 0.848976"
       ]
      },
      {
       "output_type": "stream",
       "stream": "stdout",
       "text": [
        "\n",
        "Model: RandomForestClassifier Metric: accuracy_score On test: 0.772382\n",
        "min_samples_leaf 8"
       ]
      },
      {
       "output_type": "stream",
       "stream": "stdout",
       "text": [
        "\n",
        "Model: RandomForestClassifier Metric: accuracy_score On train: 0.840027"
       ]
      },
      {
       "output_type": "stream",
       "stream": "stdout",
       "text": [
        "\n",
        "Model: RandomForestClassifier Metric: accuracy_score On test: 0.768746\n",
        "min_samples_leaf 9"
       ]
      },
      {
       "output_type": "stream",
       "stream": "stdout",
       "text": [
        "\n",
        "Model: RandomForestClassifier Metric: accuracy_score On train: 0.832168"
       ]
      },
      {
       "output_type": "stream",
       "stream": "stdout",
       "text": [
        "\n",
        "Model: RandomForestClassifier Metric: accuracy_score On test: 0.766888\n",
        "min_samples_leaf 10"
       ]
      },
      {
       "output_type": "stream",
       "stream": "stdout",
       "text": [
        "\n",
        "Model: RandomForestClassifier Metric: accuracy_score On train: 0.822795"
       ]
      },
      {
       "output_type": "stream",
       "stream": "stdout",
       "text": [
        "\n",
        "Model: RandomForestClassifier Metric: accuracy_score On test: 0.762605\n",
        "min_samples_leaf 11"
       ]
      },
      {
       "output_type": "stream",
       "stream": "stdout",
       "text": [
        "\n",
        "Model: RandomForestClassifier Metric: accuracy_score On train: 0.818472"
       ]
      },
      {
       "output_type": "stream",
       "stream": "stdout",
       "text": [
        "\n",
        "Model: RandomForestClassifier Metric: accuracy_score On test: 0.757757\n",
        "min_samples_leaf 12"
       ]
      },
      {
       "output_type": "stream",
       "stream": "stdout",
       "text": [
        "\n",
        "Model: RandomForestClassifier Metric: accuracy_score On train: 0.813543"
       ]
      },
      {
       "output_type": "stream",
       "stream": "stdout",
       "text": [
        "\n",
        "Model: RandomForestClassifier Metric: accuracy_score On test: 0.761393\n",
        "min_samples_leaf 13"
       ]
      },
      {
       "output_type": "stream",
       "stream": "stdout",
       "text": [
        "\n",
        "Model: RandomForestClassifier Metric: accuracy_score On train: 0.809200"
       ]
      },
      {
       "output_type": "stream",
       "stream": "stdout",
       "text": [
        "\n",
        "Model: RandomForestClassifier Metric: accuracy_score On test: 0.760100\n",
        "min_samples_leaf 14"
       ]
      },
      {
       "output_type": "stream",
       "stream": "stdout",
       "text": [
        "\n",
        "Model: RandomForestClassifier Metric: accuracy_score On train: 0.803968"
       ]
      },
      {
       "output_type": "stream",
       "stream": "stdout",
       "text": [
        "\n",
        "Model: RandomForestClassifier Metric: accuracy_score On test: 0.760019\n",
        "min_samples_leaf 15"
       ]
      },
      {
       "output_type": "stream",
       "stream": "stdout",
       "text": [
        "\n",
        "Model: RandomForestClassifier Metric: accuracy_score On train: 0.799947"
       ]
      },
      {
       "output_type": "stream",
       "stream": "stdout",
       "text": [
        "\n",
        "Model: RandomForestClassifier Metric: accuracy_score On test: 0.756545\n",
        "min_samples_leaf 16"
       ]
      },
      {
       "output_type": "stream",
       "stream": "stdout",
       "text": [
        "\n",
        "Model: RandomForestClassifier Metric: accuracy_score On train: 0.796432"
       ]
      },
      {
       "output_type": "stream",
       "stream": "stdout",
       "text": [
        "\n",
        "Model: RandomForestClassifier Metric: accuracy_score On test: 0.756141\n",
        "min_samples_leaf 17"
       ]
      },
      {
       "output_type": "stream",
       "stream": "stdout",
       "text": [
        "\n",
        "Model: RandomForestClassifier Metric: accuracy_score On train: 0.792857"
       ]
      },
      {
       "output_type": "stream",
       "stream": "stdout",
       "text": [
        "\n",
        "Model: RandomForestClassifier Metric: accuracy_score On test: 0.755737\n",
        "min_samples_leaf 18"
       ]
      },
      {
       "output_type": "stream",
       "stream": "stdout",
       "text": [
        "\n",
        "Model: RandomForestClassifier Metric: accuracy_score On train: 0.791968"
       ]
      },
      {
       "output_type": "stream",
       "stream": "stdout",
       "text": [
        "\n",
        "Model: RandomForestClassifier Metric: accuracy_score On test: 0.755252\n",
        "min_samples_leaf 19"
       ]
      },
      {
       "output_type": "stream",
       "stream": "stdout",
       "text": [
        "\n",
        "Model: RandomForestClassifier Metric: accuracy_score On train: 0.787625"
       ]
      },
      {
       "output_type": "stream",
       "stream": "stdout",
       "text": [
        "\n",
        "Model: RandomForestClassifier Metric: accuracy_score On test: 0.755414\n",
        "min_samples_leaf 20"
       ]
      },
      {
       "output_type": "stream",
       "stream": "stdout",
       "text": [
        "\n",
        "Model: RandomForestClassifier Metric: accuracy_score On train: 0.784292"
       ]
      },
      {
       "output_type": "stream",
       "stream": "stdout",
       "text": [
        "\n",
        "Model: RandomForestClassifier Metric: accuracy_score On test: 0.751454\n",
        "min_samples_leaf 21"
       ]
      },
      {
       "output_type": "stream",
       "stream": "stdout",
       "text": [
        "\n",
        "Model: RandomForestClassifier Metric: accuracy_score On train: 0.782150"
       ]
      },
      {
       "output_type": "stream",
       "stream": "stdout",
       "text": [
        "\n",
        "Model: RandomForestClassifier Metric: accuracy_score On test: 0.753151\n",
        "min_samples_leaf 22"
       ]
      },
      {
       "output_type": "stream",
       "stream": "stdout",
       "text": [
        "\n",
        "Model: RandomForestClassifier Metric: accuracy_score On train: 0.780777"
       ]
      },
      {
       "output_type": "stream",
       "stream": "stdout",
       "text": [
        "\n",
        "Model: RandomForestClassifier Metric: accuracy_score On test: 0.747657\n",
        "min_samples_leaf 23"
       ]
      },
      {
       "output_type": "stream",
       "stream": "stdout",
       "text": [
        "\n",
        "Model: RandomForestClassifier Metric: accuracy_score On train: 0.775585"
       ]
      },
      {
       "output_type": "stream",
       "stream": "stdout",
       "text": [
        "\n",
        "Model: RandomForestClassifier Metric: accuracy_score On test: 0.741435\n",
        "min_samples_leaf 24"
       ]
      },
      {
       "output_type": "stream",
       "stream": "stdout",
       "text": [
        "\n",
        "Model: RandomForestClassifier Metric: accuracy_score On train: 0.776696"
       ]
      },
      {
       "output_type": "stream",
       "stream": "stdout",
       "text": [
        "\n",
        "Model: RandomForestClassifier Metric: accuracy_score On test: 0.747818\n",
        "min_samples_leaf 25"
       ]
      },
      {
       "output_type": "stream",
       "stream": "stdout",
       "text": [
        "\n",
        "Model: RandomForestClassifier Metric: accuracy_score On train: 0.776049"
       ]
      },
      {
       "output_type": "stream",
       "stream": "stdout",
       "text": [
        "\n",
        "Model: RandomForestClassifier Metric: accuracy_score On test: 0.744586\n",
        "n_estimators 10"
       ]
      },
      {
       "output_type": "stream",
       "stream": "stdout",
       "text": [
        "\n",
        "Model: RandomForestClassifier Metric: accuracy_score On train: 0.991515"
       ]
      },
      {
       "output_type": "stream",
       "stream": "stdout",
       "text": [
        "\n",
        "Model: RandomForestClassifier Metric: accuracy_score On test: 0.778038\n",
        "n_estimators 30"
       ]
      },
      {
       "output_type": "stream",
       "stream": "stdout",
       "text": [
        "\n",
        "Model: RandomForestClassifier Metric: accuracy_score On train: 0.999495"
       ]
      },
      {
       "output_type": "stream",
       "stream": "stdout",
       "text": [
        "\n",
        "Model: RandomForestClassifier Metric: accuracy_score On test: 0.796865"
       ]
      },
      {
       "output_type": "stream",
       "stream": "stdout",
       "text": [
        "\n",
        "n_estimators 50"
       ]
      },
      {
       "output_type": "stream",
       "stream": "stdout",
       "text": [
        "\n",
        "Model: RandomForestClassifier Metric: accuracy_score On train: 0.999879"
       ]
      },
      {
       "output_type": "stream",
       "stream": "stdout",
       "text": [
        "\n",
        "Model: RandomForestClassifier Metric: accuracy_score On test: 0.802602"
       ]
      },
      {
       "output_type": "stream",
       "stream": "stdout",
       "text": [
        "\n",
        "n_estimators 70"
       ]
      },
      {
       "output_type": "stream",
       "stream": "stdout",
       "text": [
        "\n",
        "Model: RandomForestClassifier Metric: accuracy_score On train: 0.999980"
       ]
      },
      {
       "output_type": "stream",
       "stream": "stdout",
       "text": [
        "\n",
        "Model: RandomForestClassifier Metric: accuracy_score On test: 0.806319"
       ]
      },
      {
       "output_type": "stream",
       "stream": "stdout",
       "text": [
        "\n",
        "n_estimators 100"
       ]
      },
      {
       "output_type": "stream",
       "stream": "stdout",
       "text": [
        "\n",
        "Model: RandomForestClassifier Metric: accuracy_score On train: 1.000000"
       ]
      },
      {
       "output_type": "stream",
       "stream": "stdout",
       "text": [
        "\n",
        "Model: RandomForestClassifier Metric: accuracy_score On test: 0.804703"
       ]
      },
      {
       "output_type": "stream",
       "stream": "stdout",
       "text": [
        "\n",
        "n_estimators 150"
       ]
      },
      {
       "output_type": "stream",
       "stream": "stdout",
       "text": [
        "\n",
        "Model: RandomForestClassifier Metric: accuracy_score On train: 1.000000"
       ]
      },
      {
       "output_type": "stream",
       "stream": "stdout",
       "text": [
        "\n",
        "Model: RandomForestClassifier Metric: accuracy_score On test: 0.804945"
       ]
      },
      {
       "output_type": "stream",
       "stream": "stdout",
       "text": [
        "\n",
        "n_estimators 200"
       ]
      },
      {
       "output_type": "stream",
       "stream": "stdout",
       "text": [
        "\n",
        "Model: RandomForestClassifier Metric: accuracy_score On train: 1.000000"
       ]
      },
      {
       "output_type": "stream",
       "stream": "stdout",
       "text": [
        "\n",
        "Model: RandomForestClassifier Metric: accuracy_score On test: 0.806157"
       ]
      },
      {
       "output_type": "stream",
       "stream": "stdout",
       "text": [
        "\n",
        "n_estimators 250"
       ]
      },
      {
       "output_type": "stream",
       "stream": "stdout",
       "text": [
        "\n",
        "Model: RandomForestClassifier Metric: accuracy_score On train: 1.000000"
       ]
      },
      {
       "output_type": "stream",
       "stream": "stdout",
       "text": [
        "\n",
        "Model: RandomForestClassifier Metric: accuracy_score On test: 0.808258"
       ]
      },
      {
       "output_type": "stream",
       "stream": "stdout",
       "text": [
        "\n",
        "n_estimators 300"
       ]
      },
      {
       "output_type": "stream",
       "stream": "stdout",
       "text": [
        "\n",
        "Model: RandomForestClassifier Metric: accuracy_score On train: 1.000000"
       ]
      },
      {
       "output_type": "stream",
       "stream": "stdout",
       "text": [
        "\n",
        "Model: RandomForestClassifier Metric: accuracy_score On test: 0.806803"
       ]
      },
      {
       "output_type": "stream",
       "stream": "stdout",
       "text": [
        "\n",
        "n_estimators 350"
       ]
      },
      {
       "output_type": "stream",
       "stream": "stdout",
       "text": [
        "\n",
        "Model: RandomForestClassifier Metric: accuracy_score On train: 1.000000"
       ]
      },
      {
       "output_type": "stream",
       "stream": "stdout",
       "text": [
        "\n",
        "Model: RandomForestClassifier Metric: accuracy_score On test: 0.808500"
       ]
      },
      {
       "output_type": "stream",
       "stream": "stdout",
       "text": [
        "\n",
        "n_estimators 400"
       ]
      },
      {
       "output_type": "stream",
       "stream": "stdout",
       "text": [
        "\n",
        "Model: RandomForestClassifier Metric: accuracy_score On train: 1.000000"
       ]
      },
      {
       "output_type": "stream",
       "stream": "stdout",
       "text": [
        "\n",
        "Model: RandomForestClassifier Metric: accuracy_score On test: 0.806723"
       ]
      },
      {
       "output_type": "stream",
       "stream": "stdout",
       "text": [
        "\n",
        "n_estimators 450"
       ]
      },
      {
       "output_type": "stream",
       "stream": "stdout",
       "text": [
        "\n",
        "Model: RandomForestClassifier Metric: accuracy_score On train: 1.000000"
       ]
      },
      {
       "output_type": "stream",
       "stream": "stdout",
       "text": [
        "\n",
        "Model: RandomForestClassifier Metric: accuracy_score On test: 0.809551"
       ]
      },
      {
       "output_type": "stream",
       "stream": "stdout",
       "text": [
        "\n",
        "n_estimators 500"
       ]
      },
      {
       "output_type": "stream",
       "stream": "stdout",
       "text": [
        "\n",
        "Model: RandomForestClassifier Metric: accuracy_score On train: 1.000000"
       ]
      },
      {
       "output_type": "stream",
       "stream": "stdout",
       "text": [
        "\n",
        "Model: RandomForestClassifier Metric: accuracy_score On test: 0.807450"
       ]
      },
      {
       "output_type": "stream",
       "stream": "stdout",
       "text": [
        "\n",
        "n_estimators 550"
       ]
      },
      {
       "output_type": "stream",
       "stream": "stdout",
       "text": [
        "\n",
        "Model: RandomForestClassifier Metric: accuracy_score On train: 1.000000"
       ]
      },
      {
       "output_type": "stream",
       "stream": "stdout",
       "text": [
        "\n",
        "Model: RandomForestClassifier Metric: accuracy_score On test: 0.806803"
       ]
      },
      {
       "output_type": "stream",
       "stream": "stdout",
       "text": [
        "\n",
        "n_estimators 600"
       ]
      },
      {
       "output_type": "stream",
       "stream": "stdout",
       "text": [
        "\n",
        "Model: RandomForestClassifier Metric: accuracy_score On train: 1.000000"
       ]
      },
      {
       "output_type": "stream",
       "stream": "stdout",
       "text": [
        "\n",
        "Model: RandomForestClassifier Metric: accuracy_score On test: 0.808581"
       ]
      },
      {
       "output_type": "stream",
       "stream": "stdout",
       "text": [
        "\n",
        "max_features 10"
       ]
      },
      {
       "output_type": "stream",
       "stream": "stdout",
       "text": [
        "\n",
        "Model: RandomForestClassifier Metric: accuracy_score On train: 0.992263"
       ]
      },
      {
       "output_type": "stream",
       "stream": "stdout",
       "text": [
        "\n",
        "Model: RandomForestClassifier Metric: accuracy_score On test: 0.780301\n",
        "max_features 20"
       ]
      },
      {
       "output_type": "stream",
       "stream": "stdout",
       "text": [
        "\n",
        "Model: RandomForestClassifier Metric: accuracy_score On train: 0.991313"
       ]
      },
      {
       "output_type": "stream",
       "stream": "stdout",
       "text": [
        "\n",
        "Model: RandomForestClassifier Metric: accuracy_score On test: 0.784906\n",
        "max_features 30"
       ]
      },
      {
       "output_type": "stream",
       "stream": "stdout",
       "text": [
        "\n",
        "Model: RandomForestClassifier Metric: accuracy_score On train: 0.991576"
       ]
      },
      {
       "output_type": "stream",
       "stream": "stdout",
       "text": [
        "\n",
        "Model: RandomForestClassifier Metric: accuracy_score On test: 0.784260\n",
        "max_features 40"
       ]
      },
      {
       "output_type": "stream",
       "stream": "stdout",
       "text": [
        "\n",
        "Model: RandomForestClassifier Metric: accuracy_score On train: 0.990990"
       ]
      },
      {
       "output_type": "stream",
       "stream": "stdout",
       "text": [
        "\n",
        "Model: RandomForestClassifier Metric: accuracy_score On test: 0.785633\n",
        "max_features 50"
       ]
      },
      {
       "output_type": "stream",
       "stream": "stdout",
       "text": [
        "\n",
        "Model: RandomForestClassifier Metric: accuracy_score On train: 0.990728"
       ]
      },
      {
       "output_type": "stream",
       "stream": "stdout",
       "text": [
        "\n",
        "Model: RandomForestClassifier Metric: accuracy_score On test: 0.780220\n",
        "max_features 60"
       ]
      },
      {
       "output_type": "stream",
       "stream": "stdout",
       "text": [
        "\n",
        "Model: RandomForestClassifier Metric: accuracy_score On train: 0.990930"
       ]
      },
      {
       "output_type": "stream",
       "stream": "stdout",
       "text": [
        "\n",
        "Model: RandomForestClassifier Metric: accuracy_score On test: 0.781674\n",
        "max_features 70"
       ]
      },
      {
       "output_type": "stream",
       "stream": "stdout",
       "text": [
        "\n",
        "Model: RandomForestClassifier Metric: accuracy_score On train: 0.989697"
       ]
      },
      {
       "output_type": "stream",
       "stream": "stdout",
       "text": [
        "\n",
        "Model: RandomForestClassifier Metric: accuracy_score On test: 0.781432\n",
        "max_features 80"
       ]
      },
      {
       "output_type": "stream",
       "stream": "stdout",
       "text": [
        "\n",
        "Model: RandomForestClassifier Metric: accuracy_score On train: 0.989879"
       ]
      },
      {
       "output_type": "stream",
       "stream": "stdout",
       "text": [
        "\n",
        "Model: RandomForestClassifier Metric: accuracy_score On test: 0.779573\n",
        "max_features 90"
       ]
      },
      {
       "output_type": "stream",
       "stream": "stdout",
       "text": [
        "\n",
        "Model: RandomForestClassifier Metric: accuracy_score On train: 0.989960"
       ]
      },
      {
       "output_type": "stream",
       "stream": "stdout",
       "text": [
        "\n",
        "Model: RandomForestClassifier Metric: accuracy_score On test: 0.773594\n",
        "criterion gini"
       ]
      },
      {
       "output_type": "stream",
       "stream": "stdout",
       "text": [
        "\n",
        "Model: RandomForestClassifier Metric: accuracy_score On train: 0.992142"
       ]
      },
      {
       "output_type": "stream",
       "stream": "stdout",
       "text": [
        "\n",
        "Model: RandomForestClassifier Metric: accuracy_score On test: 0.776099\n",
        "criterion entropy"
       ]
      },
      {
       "output_type": "stream",
       "stream": "stdout",
       "text": [
        "\n",
        "Model: RandomForestClassifier Metric: accuracy_score On train: 0.992021"
       ]
      },
      {
       "output_type": "stream",
       "stream": "stdout",
       "text": [
        "\n",
        "Model: RandomForestClassifier Metric: accuracy_score On test: 0.770524\n",
        "min_samples_split 1"
       ]
      },
      {
       "output_type": "stream",
       "stream": "stdout",
       "text": [
        "\n",
        "Model: RandomForestClassifier Metric: accuracy_score On train: 0.992324"
       ]
      },
      {
       "output_type": "stream",
       "stream": "stdout",
       "text": [
        "\n",
        "Model: RandomForestClassifier Metric: accuracy_score On test: 0.778281\n",
        "min_samples_split 2"
       ]
      },
      {
       "output_type": "stream",
       "stream": "stdout",
       "text": [
        "\n",
        "Model: RandomForestClassifier Metric: accuracy_score On train: 0.992344"
       ]
      },
      {
       "output_type": "stream",
       "stream": "stdout",
       "text": [
        "\n",
        "Model: RandomForestClassifier Metric: accuracy_score On test: 0.774806\n",
        "min_samples_split 3"
       ]
      },
      {
       "output_type": "stream",
       "stream": "stdout",
       "text": [
        "\n",
        "Model: RandomForestClassifier Metric: accuracy_score On train: 0.985395"
       ]
      },
      {
       "output_type": "stream",
       "stream": "stdout",
       "text": [
        "\n",
        "Model: RandomForestClassifier Metric: accuracy_score On test: 0.781270\n",
        "min_samples_split 4"
       ]
      },
      {
       "output_type": "stream",
       "stream": "stdout",
       "text": [
        "\n",
        "Model: RandomForestClassifier Metric: accuracy_score On train: 0.978425"
       ]
      },
      {
       "output_type": "stream",
       "stream": "stdout",
       "text": [
        "\n",
        "Model: RandomForestClassifier Metric: accuracy_score On test: 0.782644\n",
        "min_samples_split 5"
       ]
      },
      {
       "output_type": "stream",
       "stream": "stdout",
       "text": [
        "\n",
        "Model: RandomForestClassifier Metric: accuracy_score On train: 0.970930"
       ]
      },
      {
       "output_type": "stream",
       "stream": "stdout",
       "text": [
        "\n",
        "Model: RandomForestClassifier Metric: accuracy_score On test: 0.781351\n",
        "min_samples_split 6"
       ]
      },
      {
       "output_type": "stream",
       "stream": "stdout",
       "text": [
        "\n",
        "Model: RandomForestClassifier Metric: accuracy_score On train: 0.962406"
       ]
      },
      {
       "output_type": "stream",
       "stream": "stdout",
       "text": [
        "\n",
        "Model: RandomForestClassifier Metric: accuracy_score On test: 0.784502\n",
        "min_samples_split 7"
       ]
      },
      {
       "output_type": "stream",
       "stream": "stdout",
       "text": [
        "\n",
        "Model: RandomForestClassifier Metric: accuracy_score On train: 0.956992"
       ]
      },
      {
       "output_type": "stream",
       "stream": "stdout",
       "text": [
        "\n",
        "Model: RandomForestClassifier Metric: accuracy_score On test: 0.782886\n",
        "min_samples_split 8"
       ]
      },
      {
       "output_type": "stream",
       "stream": "stdout",
       "text": [
        "\n",
        "Model: RandomForestClassifier Metric: accuracy_score On train: 0.949820"
       ]
      },
      {
       "output_type": "stream",
       "stream": "stdout",
       "text": [
        "\n",
        "Model: RandomForestClassifier Metric: accuracy_score On test: 0.782482\n",
        "min_samples_split 9"
       ]
      },
      {
       "output_type": "stream",
       "stream": "stdout",
       "text": [
        "\n",
        "Model: RandomForestClassifier Metric: accuracy_score On train: 0.944507"
       ]
      },
      {
       "output_type": "stream",
       "stream": "stdout",
       "text": [
        "\n",
        "Model: RandomForestClassifier Metric: accuracy_score On test: 0.782482\n",
        "min_samples_split 10"
       ]
      },
      {
       "output_type": "stream",
       "stream": "stdout",
       "text": [
        "\n",
        "Model: RandomForestClassifier Metric: accuracy_score On train: 0.938144"
       ]
      },
      {
       "output_type": "stream",
       "stream": "stdout",
       "text": [
        "\n",
        "Model: RandomForestClassifier Metric: accuracy_score On test: 0.780947\n",
        "min_samples_split 11"
       ]
      },
      {
       "output_type": "stream",
       "stream": "stdout",
       "text": [
        "\n",
        "Model: RandomForestClassifier Metric: accuracy_score On train: 0.934023"
       ]
      },
      {
       "output_type": "stream",
       "stream": "stdout",
       "text": [
        "\n",
        "Model: RandomForestClassifier Metric: accuracy_score On test: 0.778927\n",
        "min_samples_split 12"
       ]
      },
      {
       "output_type": "stream",
       "stream": "stdout",
       "text": [
        "\n",
        "Model: RandomForestClassifier Metric: accuracy_score On train: 0.928569"
       ]
      },
      {
       "output_type": "stream",
       "stream": "stdout",
       "text": [
        "\n",
        "Model: RandomForestClassifier Metric: accuracy_score On test: 0.783533\n",
        "min_samples_split 13"
       ]
      },
      {
       "output_type": "stream",
       "stream": "stdout",
       "text": [
        "\n",
        "Model: RandomForestClassifier Metric: accuracy_score On train: 0.923518"
       ]
      },
      {
       "output_type": "stream",
       "stream": "stdout",
       "text": [
        "\n",
        "Model: RandomForestClassifier Metric: accuracy_score On test: 0.784583\n",
        "min_samples_split 14"
       ]
      },
      {
       "output_type": "stream",
       "stream": "stdout",
       "text": [
        "\n",
        "Model: RandomForestClassifier Metric: accuracy_score On train: 0.918185"
       ]
      },
      {
       "output_type": "stream",
       "stream": "stdout",
       "text": [
        "\n",
        "Model: RandomForestClassifier Metric: accuracy_score On test: 0.779654\n",
        "min_samples_split 15"
       ]
      },
      {
       "output_type": "stream",
       "stream": "stdout",
       "text": [
        "\n",
        "Model: RandomForestClassifier Metric: accuracy_score On train: 0.913902"
       ]
      },
      {
       "output_type": "stream",
       "stream": "stdout",
       "text": [
        "\n",
        "Model: RandomForestClassifier Metric: accuracy_score On test: 0.782725\n",
        "min_samples_split 16"
       ]
      },
      {
       "output_type": "stream",
       "stream": "stdout",
       "text": [
        "\n",
        "Model: RandomForestClassifier Metric: accuracy_score On train: 0.911054"
       ]
      },
      {
       "output_type": "stream",
       "stream": "stdout",
       "text": [
        "\n",
        "Model: RandomForestClassifier Metric: accuracy_score On test: 0.776907\n",
        "min_samples_split 17"
       ]
      },
      {
       "output_type": "stream",
       "stream": "stdout",
       "text": [
        "\n",
        "Model: RandomForestClassifier Metric: accuracy_score On train: 0.908347"
       ]
      },
      {
       "output_type": "stream",
       "stream": "stdout",
       "text": [
        "\n",
        "Model: RandomForestClassifier Metric: accuracy_score On test: 0.781432\n",
        "min_samples_split 18"
       ]
      },
      {
       "output_type": "stream",
       "stream": "stdout",
       "text": [
        "\n",
        "Model: RandomForestClassifier Metric: accuracy_score On train: 0.903216"
       ]
      },
      {
       "output_type": "stream",
       "stream": "stdout",
       "text": [
        "\n",
        "Model: RandomForestClassifier Metric: accuracy_score On test: 0.780381\n",
        "min_samples_split 19"
       ]
      },
      {
       "output_type": "stream",
       "stream": "stdout",
       "text": [
        "\n",
        "Model: RandomForestClassifier Metric: accuracy_score On train: 0.900166"
       ]
      },
      {
       "output_type": "stream",
       "stream": "stdout",
       "text": [
        "\n",
        "Model: RandomForestClassifier Metric: accuracy_score On test: 0.773028\n",
        "min_samples_split 20"
       ]
      },
      {
       "output_type": "stream",
       "stream": "stdout",
       "text": [
        "\n",
        "Model: RandomForestClassifier Metric: accuracy_score On train: 0.895014"
       ]
      },
      {
       "output_type": "stream",
       "stream": "stdout",
       "text": [
        "\n",
        "Model: RandomForestClassifier Metric: accuracy_score On test: 0.774968\n",
        "min_samples_split 21"
       ]
      },
      {
       "output_type": "stream",
       "stream": "stdout",
       "text": [
        "\n",
        "Model: RandomForestClassifier Metric: accuracy_score On train: 0.894893"
       ]
      },
      {
       "output_type": "stream",
       "stream": "stdout",
       "text": [
        "\n",
        "Model: RandomForestClassifier Metric: accuracy_score On test: 0.773352\n",
        "min_samples_split 22"
       ]
      },
      {
       "output_type": "stream",
       "stream": "stdout",
       "text": [
        "\n",
        "Model: RandomForestClassifier Metric: accuracy_score On train: 0.890025"
       ]
      },
      {
       "output_type": "stream",
       "stream": "stdout",
       "text": [
        "\n",
        "Model: RandomForestClassifier Metric: accuracy_score On test: 0.778685\n",
        "min_samples_split 23"
       ]
      },
      {
       "output_type": "stream",
       "stream": "stdout",
       "text": [
        "\n",
        "Model: RandomForestClassifier Metric: accuracy_score On train: 0.888994"
       ]
      },
      {
       "output_type": "stream",
       "stream": "stdout",
       "text": [
        "\n",
        "Model: RandomForestClassifier Metric: accuracy_score On test: 0.775614\n",
        "min_samples_split 24"
       ]
      },
      {
       "output_type": "stream",
       "stream": "stdout",
       "text": [
        "\n",
        "Model: RandomForestClassifier Metric: accuracy_score On train: 0.886065"
       ]
      },
      {
       "output_type": "stream",
       "stream": "stdout",
       "text": [
        "\n",
        "Model: RandomForestClassifier Metric: accuracy_score On test: 0.772301\n",
        "min_samples_split 25"
       ]
      },
      {
       "output_type": "stream",
       "stream": "stdout",
       "text": [
        "\n",
        "Model: RandomForestClassifier Metric: accuracy_score On train: 0.882106"
       ]
      },
      {
       "output_type": "stream",
       "stream": "stdout",
       "text": [
        "\n",
        "Model: RandomForestClassifier Metric: accuracy_score On test: 0.772705\n",
        "max_depth 1"
       ]
      },
      {
       "output_type": "stream",
       "stream": "stdout",
       "text": [
        "\n",
        "Model: RandomForestClassifier Metric: accuracy_score On train: 0.465072\n",
        "Model: RandomForestClassifier Metric: accuracy_score On test: 0.466467"
       ]
      },
      {
       "output_type": "stream",
       "stream": "stdout",
       "text": [
        "\n",
        "max_depth 2"
       ]
      },
      {
       "output_type": "stream",
       "stream": "stdout",
       "text": [
        "\n",
        "Model: RandomForestClassifier Metric: accuracy_score On train: 0.496142\n",
        "Model: RandomForestClassifier Metric: accuracy_score On test: 0.499434"
       ]
      },
      {
       "output_type": "stream",
       "stream": "stdout",
       "text": [
        "\n",
        "max_depth 3"
       ]
      },
      {
       "output_type": "stream",
       "stream": "stdout",
       "text": [
        "\n",
        "Model: RandomForestClassifier Metric: accuracy_score On train: 0.533716"
       ]
      },
      {
       "output_type": "stream",
       "stream": "stdout",
       "text": [
        "\n",
        "Model: RandomForestClassifier Metric: accuracy_score On test: 0.531755\n",
        "max_depth 4"
       ]
      },
      {
       "output_type": "stream",
       "stream": "stdout",
       "text": [
        "\n",
        "Model: RandomForestClassifier Metric: accuracy_score On train: 0.572947"
       ]
      },
      {
       "output_type": "stream",
       "stream": "stdout",
       "text": [
        "\n",
        "Model: RandomForestClassifier Metric: accuracy_score On test: 0.568439\n",
        "max_depth 5"
       ]
      },
      {
       "output_type": "stream",
       "stream": "stdout",
       "text": [
        "\n",
        "Model: RandomForestClassifier Metric: accuracy_score On train: 0.594057"
       ]
      },
      {
       "output_type": "stream",
       "stream": "stdout",
       "text": [
        "\n",
        "Model: RandomForestClassifier Metric: accuracy_score On test: 0.590498\n",
        "max_depth 6"
       ]
      },
      {
       "output_type": "stream",
       "stream": "stdout",
       "text": [
        "\n",
        "Model: RandomForestClassifier Metric: accuracy_score On train: 0.641570"
       ]
      },
      {
       "output_type": "stream",
       "stream": "stdout",
       "text": [
        "\n",
        "Model: RandomForestClassifier Metric: accuracy_score On test: 0.639948\n",
        "max_depth 7"
       ]
      },
      {
       "output_type": "stream",
       "stream": "stdout",
       "text": [
        "\n",
        "Model: RandomForestClassifier Metric: accuracy_score On train: 0.646600"
       ]
      },
      {
       "output_type": "stream",
       "stream": "stdout",
       "text": [
        "\n",
        "Model: RandomForestClassifier Metric: accuracy_score On test: 0.643019\n",
        "max_depth 8"
       ]
      },
      {
       "output_type": "stream",
       "stream": "stdout",
       "text": [
        "\n",
        "Model: RandomForestClassifier Metric: accuracy_score On train: 0.666195"
       ]
      },
      {
       "output_type": "stream",
       "stream": "stdout",
       "text": [
        "\n",
        "Model: RandomForestClassifier Metric: accuracy_score On test: 0.660795\n",
        "max_depth 9"
       ]
      },
      {
       "output_type": "stream",
       "stream": "stdout",
       "text": [
        "\n",
        "Model: RandomForestClassifier Metric: accuracy_score On train: 0.701871"
       ]
      },
      {
       "output_type": "stream",
       "stream": "stdout",
       "text": [
        "\n",
        "Model: RandomForestClassifier Metric: accuracy_score On test: 0.691823\n",
        "max_depth 10"
       ]
      },
      {
       "output_type": "stream",
       "stream": "stdout",
       "text": [
        "\n",
        "Model: RandomForestClassifier Metric: accuracy_score On train: 0.713486"
       ]
      },
      {
       "output_type": "stream",
       "stream": "stdout",
       "text": [
        "\n",
        "Model: RandomForestClassifier Metric: accuracy_score On test: 0.696590\n",
        "max_depth 11"
       ]
      },
      {
       "output_type": "stream",
       "stream": "stdout",
       "text": [
        "\n",
        "Model: RandomForestClassifier Metric: accuracy_score On train: 0.726920"
       ]
      },
      {
       "output_type": "stream",
       "stream": "stdout",
       "text": [
        "\n",
        "Model: RandomForestClassifier Metric: accuracy_score On test: 0.704670\n",
        "max_depth 12"
       ]
      },
      {
       "output_type": "stream",
       "stream": "stdout",
       "text": [
        "\n",
        "Model: RandomForestClassifier Metric: accuracy_score On train: 0.744798"
       ]
      },
      {
       "output_type": "stream",
       "stream": "stdout",
       "text": [
        "\n",
        "Model: RandomForestClassifier Metric: accuracy_score On test: 0.719780\n",
        "max_depth 13"
       ]
      },
      {
       "output_type": "stream",
       "stream": "stdout",
       "text": [
        "\n",
        "Model: RandomForestClassifier Metric: accuracy_score On train: 0.762939"
       ]
      },
      {
       "output_type": "stream",
       "stream": "stdout",
       "text": [
        "\n",
        "Model: RandomForestClassifier Metric: accuracy_score On test: 0.726810\n",
        "max_depth 14"
       ]
      },
      {
       "output_type": "stream",
       "stream": "stdout",
       "text": [
        "\n",
        "Model: RandomForestClassifier Metric: accuracy_score On train: 0.782332"
       ]
      },
      {
       "output_type": "stream",
       "stream": "stdout",
       "text": [
        "\n",
        "Model: RandomForestClassifier Metric: accuracy_score On test: 0.740546\n",
        "max_depth 15"
       ]
      },
      {
       "output_type": "stream",
       "stream": "stdout",
       "text": [
        "\n",
        "Model: RandomForestClassifier Metric: accuracy_score On train: 0.801705"
       ]
      },
      {
       "output_type": "stream",
       "stream": "stdout",
       "text": [
        "\n",
        "Model: RandomForestClassifier Metric: accuracy_score On test: 0.747010\n",
        "max_depth 16"
       ]
      },
      {
       "output_type": "stream",
       "stream": "stdout",
       "text": [
        "\n",
        "Model: RandomForestClassifier Metric: accuracy_score On train: 0.814816"
       ]
      },
      {
       "output_type": "stream",
       "stream": "stdout",
       "text": [
        "\n",
        "Model: RandomForestClassifier Metric: accuracy_score On test: 0.753717\n",
        "max_depth 17"
       ]
      },
      {
       "output_type": "stream",
       "stream": "stdout",
       "text": [
        "\n",
        "Model: RandomForestClassifier Metric: accuracy_score On train: 0.823542"
       ]
      },
      {
       "output_type": "stream",
       "stream": "stdout",
       "text": [
        "\n",
        "Model: RandomForestClassifier Metric: accuracy_score On test: 0.751535\n",
        "max_depth 18"
       ]
      },
      {
       "output_type": "stream",
       "stream": "stdout",
       "text": [
        "\n",
        "Model: RandomForestClassifier Metric: accuracy_score On train: 0.841966"
       ]
      },
      {
       "output_type": "stream",
       "stream": "stdout",
       "text": [
        "\n",
        "Model: RandomForestClassifier Metric: accuracy_score On test: 0.758727\n",
        "max_depth 19"
       ]
      },
      {
       "output_type": "stream",
       "stream": "stdout",
       "text": [
        "\n",
        "Model: RandomForestClassifier Metric: accuracy_score On train: 0.852814"
       ]
      },
      {
       "output_type": "stream",
       "stream": "stdout",
       "text": [
        "\n",
        "Model: RandomForestClassifier Metric: accuracy_score On test: 0.758888\n",
        "max_depth 20"
       ]
      },
      {
       "output_type": "stream",
       "stream": "stdout",
       "text": [
        "\n",
        "Model: RandomForestClassifier Metric: accuracy_score On train: 0.862511"
       ]
      },
      {
       "output_type": "stream",
       "stream": "stdout",
       "text": [
        "\n",
        "Model: RandomForestClassifier Metric: accuracy_score On test: 0.761635\n",
        "max_depth 21"
       ]
      },
      {
       "output_type": "stream",
       "stream": "stdout",
       "text": [
        "\n",
        "Model: RandomForestClassifier Metric: accuracy_score On train: 0.881217"
       ]
      },
      {
       "output_type": "stream",
       "stream": "stdout",
       "text": [
        "\n",
        "Model: RandomForestClassifier Metric: accuracy_score On test: 0.769716\n",
        "max_depth 22"
       ]
      },
      {
       "output_type": "stream",
       "stream": "stdout",
       "text": [
        "\n",
        "Model: RandomForestClassifier Metric: accuracy_score On train: 0.890752"
       ]
      },
      {
       "output_type": "stream",
       "stream": "stdout",
       "text": [
        "\n",
        "Model: RandomForestClassifier Metric: accuracy_score On test: 0.768827\n",
        "max_depth 23"
       ]
      },
      {
       "output_type": "stream",
       "stream": "stdout",
       "text": [
        "\n",
        "Model: RandomForestClassifier Metric: accuracy_score On train: 0.905115"
       ]
      },
      {
       "output_type": "stream",
       "stream": "stdout",
       "text": [
        "\n",
        "Model: RandomForestClassifier Metric: accuracy_score On test: 0.773028\n",
        "max_depth 24"
       ]
      },
      {
       "output_type": "stream",
       "stream": "stdout",
       "text": [
        "\n",
        "Model: RandomForestClassifier Metric: accuracy_score On train: 0.909903"
       ]
      },
      {
       "output_type": "stream",
       "stream": "stdout",
       "text": [
        "\n",
        "Model: RandomForestClassifier Metric: accuracy_score On test: 0.775776\n",
        "max_depth 25"
       ]
      },
      {
       "output_type": "stream",
       "stream": "stdout",
       "text": [
        "\n",
        "Model: RandomForestClassifier Metric: accuracy_score On train: 0.927942"
       ]
      },
      {
       "output_type": "stream",
       "stream": "stdout",
       "text": [
        "\n",
        "Model: RandomForestClassifier Metric: accuracy_score On test: 0.772059\n"
       ]
      }
     ],
     "prompt_number": 12
    },
    {
     "cell_type": "code",
     "collapsed": false,
     "input": [
      "plot_train_test_errors(RandomForestClassifier(), rf_params, errors_train, errors_test)"
     ],
     "language": "python",
     "metadata": {},
     "outputs": [
      {
       "metadata": {},
       "output_type": "display_data",
       "png": "[encoded data removed]",
       "text": [
        "<matplotlib.figure.Figure at 0x1f194e10>"
       ]
      }
     ],
     "prompt_number": 14
    },
    {
     "cell_type": "code",
     "collapsed": false,
     "input": [
      "rf_best_params = {\"n_estimators\": [450,500], \n",
      "                  \"max_depth\": [10,15,20], \n",
      "                  \"min_samples_split\": [6,13], \n",
      "                  \"min_samples_leaf\": [1,3],\n",
      "                  \"max_features\": [20,30,40]}"
     ],
     "language": "python",
     "metadata": {},
     "outputs": [],
     "prompt_number": 6
    },
    {
     "cell_type": "code",
     "collapsed": false,
     "input": [
      "clf_rf = GridSearchCV(RandomForestClassifier(), param_grid=rf_best_params, cv=10, refit=True, verbose=1000)\n",
      "clf_rf.fit(train, train_target)"
     ],
     "language": "python",
     "metadata": {},
     "outputs": [
      {
       "output_type": "stream",
       "stream": "stdout",
       "text": [
        "Fitting 10 folds for each of 72 candidates, totalling 720 fits\n",
        "[GridSearchCV] max_features=20, min_samples_split=6, n_estimators=450, max_depth=10, min_samples_leaf=1 \n",
        "[GridSearchCV]  max_features=20, min_samples_split=6, n_estimators=450, max_depth=10, min_samples_leaf=1, score=0.715740 - 3.0min"
       ]
      },
      {
       "output_type": "stream",
       "stream": "stdout",
       "text": [
        "\n",
        "[Parallel(n_jobs=1)]: Done   1 jobs       | elapsed:  3.0min\n",
        "[GridSearchCV] max_features=20, min_samples_split=6, n_estimators=450, max_depth=10, min_samples_leaf=1 \n",
        "[GridSearchCV]  max_features=20, min_samples_split=6, n_estimators=450, max_depth=10, min_samples_leaf=1, score=0.714124 - 2.9min"
       ]
      },
      {
       "output_type": "stream",
       "stream": "stdout",
       "text": [
        "\n",
        "[Parallel(n_jobs=1)]: Done   2 jobs       | elapsed:  5.9min\n",
        "[GridSearchCV] max_features=20, min_samples_split=6, n_estimators=450, max_depth=10, min_samples_leaf=1 \n",
        "[GridSearchCV]  max_features=20, min_samples_split=6, n_estimators=450, max_depth=10, min_samples_leaf=1, score=0.708953 - 2.9min"
       ]
      },
      {
       "output_type": "stream",
       "stream": "stdout",
       "text": [
        "\n",
        "[Parallel(n_jobs=1)]: Done   3 jobs       | elapsed:  8.8min\n",
        "[GridSearchCV] max_features=20, min_samples_split=6, n_estimators=450, max_depth=10, min_samples_leaf=1 \n",
        "[GridSearchCV]  max_features=20, min_samples_split=6, n_estimators=450, max_depth=10, min_samples_leaf=1, score=0.718811 - 2.9min"
       ]
      },
      {
       "output_type": "stream",
       "stream": "stdout",
       "text": [
        "\n",
        "[Parallel(n_jobs=1)]: Done   4 jobs       | elapsed: 11.7min\n",
        "[GridSearchCV] max_features=20, min_samples_split=6, n_estimators=450, max_depth=10, min_samples_leaf=1 \n",
        "[GridSearchCV]  max_features=20, min_samples_split=6, n_estimators=450, max_depth=10, min_samples_leaf=1, score=0.714124 - 3.1min"
       ]
      },
      {
       "output_type": "stream",
       "stream": "stdout",
       "text": [
        "\n",
        "[Parallel(n_jobs=1)]: Done   5 jobs       | elapsed: 14.8min\n",
        "[GridSearchCV] max_features=20, min_samples_split=6, n_estimators=450, max_depth=10, min_samples_leaf=1 \n",
        "[GridSearchCV]  max_features=20, min_samples_split=6, n_estimators=450, max_depth=10, min_samples_leaf=1, score=0.717356 - 3.0min"
       ]
      },
      {
       "output_type": "stream",
       "stream": "stdout",
       "text": [
        "\n",
        "[Parallel(n_jobs=1)]: Done   6 jobs       | elapsed: 17.8min\n",
        "[GridSearchCV] max_features=20, min_samples_split=6, n_estimators=450, max_depth=10, min_samples_leaf=1 \n",
        "[GridSearchCV]  max_features=20, min_samples_split=6, n_estimators=450, max_depth=10, min_samples_leaf=1, score=0.721558 - 3.0min"
       ]
      },
      {
       "output_type": "stream",
       "stream": "stdout",
       "text": [
        "\n",
        "[Parallel(n_jobs=1)]: Done   7 jobs       | elapsed: 20.8min\n",
        "[GridSearchCV] max_features=20, min_samples_split=6, n_estimators=450, max_depth=10, min_samples_leaf=1 \n",
        "[GridSearchCV]  max_features=20, min_samples_split=6, n_estimators=450, max_depth=10, min_samples_leaf=1, score=0.718649 - 3.1min"
       ]
      },
      {
       "output_type": "stream",
       "stream": "stdout",
       "text": [
        "\n",
        "[Parallel(n_jobs=1)]: Done   8 jobs       | elapsed: 23.9min\n",
        "[GridSearchCV] max_features=20, min_samples_split=6, n_estimators=450, max_depth=10, min_samples_leaf=1 \n",
        "[GridSearchCV]  max_features=20, min_samples_split=6, n_estimators=450, max_depth=10, min_samples_leaf=1, score=0.715048 - 3.3min"
       ]
      },
      {
       "output_type": "stream",
       "stream": "stdout",
       "text": [
        "\n",
        "[Parallel(n_jobs=1)]: Done   9 jobs       | elapsed: 27.2min\n",
        "[GridSearchCV] max_features=20, min_samples_split=6, n_estimators=450, max_depth=10, min_samples_leaf=1 \n",
        "[GridSearchCV]  max_features=20, min_samples_split=6, n_estimators=450, max_depth=10, min_samples_leaf=1, score=0.713270 - 3.7min"
       ]
      },
      {
       "output_type": "stream",
       "stream": "stdout",
       "text": [
        "\n",
        "[Parallel(n_jobs=1)]: Done  10 jobs       | elapsed: 30.9min\n",
        "[GridSearchCV] max_features=20, min_samples_split=6, n_estimators=500, max_depth=10, min_samples_leaf=1 \n",
        "[GridSearchCV]  max_features=20, min_samples_split=6, n_estimators=500, max_depth=10, min_samples_leaf=1, score=0.714771 - 4.1min"
       ]
      },
      {
       "output_type": "stream",
       "stream": "stdout",
       "text": [
        "\n",
        "[Parallel(n_jobs=1)]: Done  11 jobs       | elapsed: 35.1min\n",
        "[GridSearchCV] max_features=20, min_samples_split=6, n_estimators=500, max_depth=10, min_samples_leaf=1 \n",
        "[GridSearchCV]  max_features=20, min_samples_split=6, n_estimators=500, max_depth=10, min_samples_leaf=1, score=0.714932 - 4.2min"
       ]
      },
      {
       "output_type": "stream",
       "stream": "stdout",
       "text": [
        "\n",
        "[Parallel(n_jobs=1)]: Done  12 jobs       | elapsed: 39.3min\n",
        "[GridSearchCV] max_features=20, min_samples_split=6, n_estimators=500, max_depth=10, min_samples_leaf=1 \n",
        "[GridSearchCV]  max_features=20, min_samples_split=6, n_estimators=500, max_depth=10, min_samples_leaf=1, score=0.709114 - 3.6min"
       ]
      },
      {
       "output_type": "stream",
       "stream": "stdout",
       "text": [
        "\n",
        "[Parallel(n_jobs=1)]: Done  13 jobs       | elapsed: 42.9min\n",
        "[GridSearchCV] max_features=20, min_samples_split=6, n_estimators=500, max_depth=10, min_samples_leaf=1 \n",
        "[GridSearchCV]  max_features=20, min_samples_split=6, n_estimators=500, max_depth=10, min_samples_leaf=1, score=0.719942 - 3.7min"
       ]
      },
      {
       "output_type": "stream",
       "stream": "stdout",
       "text": [
        "\n",
        "[Parallel(n_jobs=1)]: Done  14 jobs       | elapsed: 46.6min\n",
        "[GridSearchCV] max_features=20, min_samples_split=6, n_estimators=500, max_depth=10, min_samples_leaf=1 \n",
        "[GridSearchCV]  max_features=20, min_samples_split=6, n_estimators=500, max_depth=10, min_samples_leaf=1, score=0.712185 - 3.7min"
       ]
      },
      {
       "output_type": "stream",
       "stream": "stdout",
       "text": [
        "\n",
        "[Parallel(n_jobs=1)]: Done  15 jobs       | elapsed: 50.3min\n",
        "[GridSearchCV] max_features=20, min_samples_split=6, n_estimators=500, max_depth=10, min_samples_leaf=1 \n",
        "[GridSearchCV]  max_features=20, min_samples_split=6, n_estimators=500, max_depth=10, min_samples_leaf=1, score=0.719134 - 3.7min"
       ]
      },
      {
       "output_type": "stream",
       "stream": "stdout",
       "text": [
        "\n",
        "[Parallel(n_jobs=1)]: Done  16 jobs       | elapsed: 53.9min\n",
        "[GridSearchCV] max_features=20, min_samples_split=6, n_estimators=500, max_depth=10, min_samples_leaf=1 \n",
        "[GridSearchCV]  max_features=20, min_samples_split=6, n_estimators=500, max_depth=10, min_samples_leaf=1, score=0.718487 - 3.5min"
       ]
      },
      {
       "output_type": "stream",
       "stream": "stdout",
       "text": [
        "\n",
        "[Parallel(n_jobs=1)]: Done  17 jobs       | elapsed: 57.4min\n",
        "[GridSearchCV] max_features=20, min_samples_split=6, n_estimators=500, max_depth=10, min_samples_leaf=1 \n",
        "[GridSearchCV]  max_features=20, min_samples_split=6, n_estimators=500, max_depth=10, min_samples_leaf=1, score=0.718003 - 3.3min"
       ]
      },
      {
       "output_type": "stream",
       "stream": "stdout",
       "text": [
        "\n",
        "[Parallel(n_jobs=1)]: Done  18 jobs       | elapsed: 60.8min\n",
        "[GridSearchCV] max_features=20, min_samples_split=6, n_estimators=500, max_depth=10, min_samples_leaf=1 \n",
        "[GridSearchCV]  max_features=20, min_samples_split=6, n_estimators=500, max_depth=10, min_samples_leaf=1, score=0.713916 - 3.3min"
       ]
      },
      {
       "output_type": "stream",
       "stream": "stdout",
       "text": [
        "\n",
        "[Parallel(n_jobs=1)]: Done  19 jobs       | elapsed: 64.0min\n",
        "[GridSearchCV] max_features=20, min_samples_split=6, n_estimators=500, max_depth=10, min_samples_leaf=1 \n",
        "[GridSearchCV]  max_features=20, min_samples_split=6, n_estimators=500, max_depth=10, min_samples_leaf=1, score=0.712785 - 3.3min"
       ]
      },
      {
       "output_type": "stream",
       "stream": "stdout",
       "text": [
        "\n",
        "[Parallel(n_jobs=1)]: Done  20 jobs       | elapsed: 67.3min\n",
        "[GridSearchCV] max_features=20, min_samples_split=13, n_estimators=450, max_depth=10, min_samples_leaf=1 \n",
        "[GridSearchCV]  max_features=20, min_samples_split=13, n_estimators=450, max_depth=10, min_samples_leaf=1, score=0.712185 - 2.9min"
       ]
      },
      {
       "output_type": "stream",
       "stream": "stdout",
       "text": [
        "\n",
        "[Parallel(n_jobs=1)]: Done  21 jobs       | elapsed: 70.2min\n",
        "[GridSearchCV] max_features=20, min_samples_split=13, n_estimators=450, max_depth=10, min_samples_leaf=1 \n",
        "[GridSearchCV]  max_features=20, min_samples_split=13, n_estimators=450, max_depth=10, min_samples_leaf=1, score=0.713801 - 2.9min"
       ]
      },
      {
       "output_type": "stream",
       "stream": "stdout",
       "text": [
        "\n",
        "[Parallel(n_jobs=1)]: Done  22 jobs       | elapsed: 73.1min\n",
        "[GridSearchCV] max_features=20, min_samples_split=13, n_estimators=450, max_depth=10, min_samples_leaf=1 \n",
        "[GridSearchCV]  max_features=20, min_samples_split=13, n_estimators=450, max_depth=10, min_samples_leaf=1, score=0.711054 - 2.9min"
       ]
      },
      {
       "output_type": "stream",
       "stream": "stdout",
       "text": [
        "\n",
        "[Parallel(n_jobs=1)]: Done  23 jobs       | elapsed: 76.1min\n",
        "[GridSearchCV] max_features=20, min_samples_split=13, n_estimators=450, max_depth=10, min_samples_leaf=1 \n",
        "[GridSearchCV]  max_features=20, min_samples_split=13, n_estimators=450, max_depth=10, min_samples_leaf=1, score=0.720265 - 3.0min"
       ]
      },
      {
       "output_type": "stream",
       "stream": "stdout",
       "text": [
        "\n",
        "[Parallel(n_jobs=1)]: Done  24 jobs       | elapsed: 79.0min\n",
        "[GridSearchCV] max_features=20, min_samples_split=13, n_estimators=450, max_depth=10, min_samples_leaf=1 \n",
        "[GridSearchCV]  max_features=20, min_samples_split=13, n_estimators=450, max_depth=10, min_samples_leaf=1, score=0.715579 - 3.0min"
       ]
      },
      {
       "output_type": "stream",
       "stream": "stdout",
       "text": [
        "\n",
        "[Parallel(n_jobs=1)]: Done  25 jobs       | elapsed: 82.0min\n",
        "[GridSearchCV] max_features=20, min_samples_split=13, n_estimators=450, max_depth=10, min_samples_leaf=1 \n",
        "[GridSearchCV]  max_features=20, min_samples_split=13, n_estimators=450, max_depth=10, min_samples_leaf=1, score=0.717195 - 3.0min"
       ]
      },
      {
       "output_type": "stream",
       "stream": "stdout",
       "text": [
        "\n",
        "[Parallel(n_jobs=1)]: Done  26 jobs       | elapsed: 84.9min\n",
        "[GridSearchCV] max_features=20, min_samples_split=13, n_estimators=450, max_depth=10, min_samples_leaf=1 \n",
        "[GridSearchCV]  max_features=20, min_samples_split=13, n_estimators=450, max_depth=10, min_samples_leaf=1, score=0.718972 - 2.9min"
       ]
      },
      {
       "output_type": "stream",
       "stream": "stdout",
       "text": [
        "\n",
        "[Parallel(n_jobs=1)]: Done  27 jobs       | elapsed: 87.9min\n",
        "[GridSearchCV] max_features=20, min_samples_split=13, n_estimators=450, max_depth=10, min_samples_leaf=1 \n",
        "[GridSearchCV]  max_features=20, min_samples_split=13, n_estimators=450, max_depth=10, min_samples_leaf=1, score=0.719780 - 3.0min"
       ]
      },
      {
       "output_type": "stream",
       "stream": "stdout",
       "text": [
        "\n",
        "[Parallel(n_jobs=1)]: Done  28 jobs       | elapsed: 90.9min\n",
        "[GridSearchCV] max_features=20, min_samples_split=13, n_estimators=450, max_depth=10, min_samples_leaf=1 \n",
        "[GridSearchCV]  max_features=20, min_samples_split=13, n_estimators=450, max_depth=10, min_samples_leaf=1, score=0.712623 - 2.9min"
       ]
      },
      {
       "output_type": "stream",
       "stream": "stdout",
       "text": [
        "\n",
        "[Parallel(n_jobs=1)]: Done  29 jobs       | elapsed: 93.8min\n",
        "[GridSearchCV] max_features=20, min_samples_split=13, n_estimators=450, max_depth=10, min_samples_leaf=1 \n",
        "[GridSearchCV]  max_features=20, min_samples_split=13, n_estimators=450, max_depth=10, min_samples_leaf=1, score=0.710037 - 2.9min"
       ]
      },
      {
       "output_type": "stream",
       "stream": "stdout",
       "text": [
        "\n",
        "[Parallel(n_jobs=1)]: Done  30 jobs       | elapsed: 96.7min\n",
        "[GridSearchCV] max_features=20, min_samples_split=13, n_estimators=500, max_depth=10, min_samples_leaf=1 \n",
        "[GridSearchCV]  max_features=20, min_samples_split=13, n_estimators=500, max_depth=10, min_samples_leaf=1, score=0.714447 - 3.4min"
       ]
      },
      {
       "output_type": "stream",
       "stream": "stdout",
       "text": [
        "\n",
        "[Parallel(n_jobs=1)]: Done  31 jobs       | elapsed: 100.1min\n",
        "[GridSearchCV] max_features=20, min_samples_split=13, n_estimators=500, max_depth=10, min_samples_leaf=1 \n",
        "[GridSearchCV]  max_features=20, min_samples_split=13, n_estimators=500, max_depth=10, min_samples_leaf=1, score=0.712993 - 3.2min"
       ]
      },
      {
       "output_type": "stream",
       "stream": "stdout",
       "text": [
        "\n",
        "[Parallel(n_jobs=1)]: Done  32 jobs       | elapsed: 103.4min\n",
        "[GridSearchCV] max_features=20, min_samples_split=13, n_estimators=500, max_depth=10, min_samples_leaf=1 \n",
        "[GridSearchCV]  max_features=20, min_samples_split=13, n_estimators=500, max_depth=10, min_samples_leaf=1, score=0.711215 - 3.2min"
       ]
      },
      {
       "output_type": "stream",
       "stream": "stdout",
       "text": [
        "\n",
        "[Parallel(n_jobs=1)]: Done  33 jobs       | elapsed: 106.6min\n",
        "[GridSearchCV] max_features=20, min_samples_split=13, n_estimators=500, max_depth=10, min_samples_leaf=1 \n",
        "[GridSearchCV]  max_features=20, min_samples_split=13, n_estimators=500, max_depth=10, min_samples_leaf=1, score=0.719295 - 3.3min"
       ]
      },
      {
       "output_type": "stream",
       "stream": "stdout",
       "text": [
        "\n",
        "[Parallel(n_jobs=1)]: Done  34 jobs       | elapsed: 109.9min\n",
        "[GridSearchCV] max_features=20, min_samples_split=13, n_estimators=500, max_depth=10, min_samples_leaf=1 \n",
        "[GridSearchCV]  max_features=20, min_samples_split=13, n_estimators=500, max_depth=10, min_samples_leaf=1, score=0.714124 - 3.3min"
       ]
      },
      {
       "output_type": "stream",
       "stream": "stdout",
       "text": [
        "\n",
        "[Parallel(n_jobs=1)]: Done  35 jobs       | elapsed: 113.1min\n",
        "[GridSearchCV] max_features=20, min_samples_split=13, n_estimators=500, max_depth=10, min_samples_leaf=1 \n",
        "[GridSearchCV]  max_features=20, min_samples_split=13, n_estimators=500, max_depth=10, min_samples_leaf=1, score=0.717033 - 3.3min"
       ]
      },
      {
       "output_type": "stream",
       "stream": "stdout",
       "text": [
        "\n",
        "[Parallel(n_jobs=1)]: Done  36 jobs       | elapsed: 116.4min\n",
        "[GridSearchCV] max_features=20, min_samples_split=13, n_estimators=500, max_depth=10, min_samples_leaf=1 \n",
        "[GridSearchCV]  max_features=20, min_samples_split=13, n_estimators=500, max_depth=10, min_samples_leaf=1, score=0.718487 - 3.3min"
       ]
      },
      {
       "output_type": "stream",
       "stream": "stdout",
       "text": [
        "\n",
        "[Parallel(n_jobs=1)]: Done  37 jobs       | elapsed: 119.7min\n",
        "[GridSearchCV] max_features=20, min_samples_split=13, n_estimators=500, max_depth=10, min_samples_leaf=1 \n",
        "[GridSearchCV]  max_features=20, min_samples_split=13, n_estimators=500, max_depth=10, min_samples_leaf=1, score=0.718811 - 3.3min"
       ]
      },
      {
       "output_type": "stream",
       "stream": "stdout",
       "text": [
        "\n",
        "[Parallel(n_jobs=1)]: Done  38 jobs       | elapsed: 123.1min\n",
        "[GridSearchCV] max_features=20, min_samples_split=13, n_estimators=500, max_depth=10, min_samples_leaf=1 \n",
        "[GridSearchCV]  max_features=20, min_samples_split=13, n_estimators=500, max_depth=10, min_samples_leaf=1, score=0.713431 - 3.3min"
       ]
      },
      {
       "output_type": "stream",
       "stream": "stdout",
       "text": [
        "\n",
        "[Parallel(n_jobs=1)]: Done  39 jobs       | elapsed: 126.3min\n",
        "[GridSearchCV] max_features=20, min_samples_split=13, n_estimators=500, max_depth=10, min_samples_leaf=1 \n",
        "[GridSearchCV]  max_features=20, min_samples_split=13, n_estimators=500, max_depth=10, min_samples_leaf=1, score=0.713593 - 3.3min"
       ]
      },
      {
       "output_type": "stream",
       "stream": "stdout",
       "text": [
        "\n",
        "[Parallel(n_jobs=1)]: Done  40 jobs       | elapsed: 129.7min\n",
        "[GridSearchCV] max_features=20, min_samples_split=6, n_estimators=450, max_depth=10, min_samples_leaf=3 "
       ]
      },
      {
       "output_type": "stream",
       "stream": "stdout",
       "text": [
        "\n",
        "[GridSearchCV]  max_features=20, min_samples_split=6, n_estimators=450, max_depth=10, min_samples_leaf=3, score=0.714286 - 3.0min"
       ]
      },
      {
       "output_type": "stream",
       "stream": "stdout",
       "text": [
        "\n",
        "[Parallel(n_jobs=1)]: Done  41 jobs       | elapsed: 132.7min\n",
        "[GridSearchCV] max_features=20, min_samples_split=6, n_estimators=450, max_depth=10, min_samples_leaf=3 \n",
        "[GridSearchCV]  max_features=20, min_samples_split=6, n_estimators=450, max_depth=10, min_samples_leaf=3, score=0.715417 - 3.1min"
       ]
      },
      {
       "output_type": "stream",
       "stream": "stdout",
       "text": [
        "\n",
        "[Parallel(n_jobs=1)]: Done  42 jobs       | elapsed: 135.8min\n",
        "[GridSearchCV] max_features=20, min_samples_split=6, n_estimators=450, max_depth=10, min_samples_leaf=3 \n",
        "[GridSearchCV]  max_features=20, min_samples_split=6, n_estimators=450, max_depth=10, min_samples_leaf=3, score=0.711862 - 3.3min"
       ]
      },
      {
       "output_type": "stream",
       "stream": "stdout",
       "text": [
        "\n",
        "[Parallel(n_jobs=1)]: Done  43 jobs       | elapsed: 139.1min\n",
        "[GridSearchCV] max_features=20, min_samples_split=6, n_estimators=450, max_depth=10, min_samples_leaf=3 \n",
        "[GridSearchCV]  max_features=20, min_samples_split=6, n_estimators=450, max_depth=10, min_samples_leaf=3, score=0.718487 - 3.3min"
       ]
      },
      {
       "output_type": "stream",
       "stream": "stdout",
       "text": [
        "\n",
        "[Parallel(n_jobs=1)]: Done  44 jobs       | elapsed: 142.3min\n",
        "[GridSearchCV] max_features=20, min_samples_split=6, n_estimators=450, max_depth=10, min_samples_leaf=3 \n",
        "[GridSearchCV]  max_features=20, min_samples_split=6, n_estimators=450, max_depth=10, min_samples_leaf=3, score=0.713154 - 3.2min"
       ]
      },
      {
       "output_type": "stream",
       "stream": "stdout",
       "text": [
        "\n",
        "[Parallel(n_jobs=1)]: Done  45 jobs       | elapsed: 145.6min\n",
        "[GridSearchCV] max_features=20, min_samples_split=6, n_estimators=450, max_depth=10, min_samples_leaf=3 \n",
        "[GridSearchCV]  max_features=20, min_samples_split=6, n_estimators=450, max_depth=10, min_samples_leaf=3, score=0.717841 - 3.2min"
       ]
      },
      {
       "output_type": "stream",
       "stream": "stdout",
       "text": [
        "\n",
        "[Parallel(n_jobs=1)]: Done  46 jobs       | elapsed: 148.8min\n",
        "[GridSearchCV] max_features=20, min_samples_split=6, n_estimators=450, max_depth=10, min_samples_leaf=3 \n",
        "[GridSearchCV]  max_features=20, min_samples_split=6, n_estimators=450, max_depth=10, min_samples_leaf=3, score=0.723820 - 3.2min"
       ]
      },
      {
       "output_type": "stream",
       "stream": "stdout",
       "text": [
        "\n",
        "[Parallel(n_jobs=1)]: Done  47 jobs       | elapsed: 152.0min\n",
        "[GridSearchCV] max_features=20, min_samples_split=6, n_estimators=450, max_depth=10, min_samples_leaf=3 \n",
        "[GridSearchCV]  max_features=20, min_samples_split=6, n_estimators=450, max_depth=10, min_samples_leaf=3, score=0.716063 - 3.2min"
       ]
      },
      {
       "output_type": "stream",
       "stream": "stdout",
       "text": [
        "\n",
        "[Parallel(n_jobs=1)]: Done  48 jobs       | elapsed: 155.2min\n",
        "[GridSearchCV] max_features=20, min_samples_split=6, n_estimators=450, max_depth=10, min_samples_leaf=3 \n",
        "[GridSearchCV]  max_features=20, min_samples_split=6, n_estimators=450, max_depth=10, min_samples_leaf=3, score=0.714563 - 3.3min"
       ]
      },
      {
       "output_type": "stream",
       "stream": "stdout",
       "text": [
        "\n",
        "[Parallel(n_jobs=1)]: Done  49 jobs       | elapsed: 158.4min\n",
        "[GridSearchCV] max_features=20, min_samples_split=6, n_estimators=450, max_depth=10, min_samples_leaf=3 \n",
        "[GridSearchCV]  max_features=20, min_samples_split=6, n_estimators=450, max_depth=10, min_samples_leaf=3, score=0.710360 - 3.2min"
       ]
      },
      {
       "output_type": "stream",
       "stream": "stdout",
       "text": [
        "\n",
        "[Parallel(n_jobs=1)]: Done  50 jobs       | elapsed: 161.7min\n",
        "[GridSearchCV] max_features=20, min_samples_split=6, n_estimators=500, max_depth=10, min_samples_leaf=3 \n",
        "[GridSearchCV]  max_features=20, min_samples_split=6, n_estimators=500, max_depth=10, min_samples_leaf=3, score=0.715094 - 3.5min"
       ]
      },
      {
       "output_type": "stream",
       "stream": "stdout",
       "text": [
        "\n",
        "[Parallel(n_jobs=1)]: Done  51 jobs       | elapsed: 165.2min\n",
        "[GridSearchCV] max_features=20, min_samples_split=6, n_estimators=500, max_depth=10, min_samples_leaf=3 \n",
        "[GridSearchCV]  max_features=20, min_samples_split=6, n_estimators=500, max_depth=10, min_samples_leaf=3, score=0.716387 - 3.6min"
       ]
      },
      {
       "output_type": "stream",
       "stream": "stdout",
       "text": [
        "\n",
        "[Parallel(n_jobs=1)]: Done  52 jobs       | elapsed: 168.8min\n",
        "[GridSearchCV] max_features=20, min_samples_split=6, n_estimators=500, max_depth=10, min_samples_leaf=3 \n",
        "[GridSearchCV]  max_features=20, min_samples_split=6, n_estimators=500, max_depth=10, min_samples_leaf=3, score=0.712993 - 3.5min"
       ]
      },
      {
       "output_type": "stream",
       "stream": "stdout",
       "text": [
        "\n",
        "[Parallel(n_jobs=1)]: Done  53 jobs       | elapsed: 172.3min\n",
        "[GridSearchCV] max_features=20, min_samples_split=6, n_estimators=500, max_depth=10, min_samples_leaf=3 \n",
        "[GridSearchCV]  max_features=20, min_samples_split=6, n_estimators=500, max_depth=10, min_samples_leaf=3, score=0.719457 - 3.6min"
       ]
      },
      {
       "output_type": "stream",
       "stream": "stdout",
       "text": [
        "\n",
        "[Parallel(n_jobs=1)]: Done  54 jobs       | elapsed: 175.9min\n",
        "[GridSearchCV] max_features=20, min_samples_split=6, n_estimators=500, max_depth=10, min_samples_leaf=3 \n",
        "[GridSearchCV]  max_features=20, min_samples_split=6, n_estimators=500, max_depth=10, min_samples_leaf=3, score=0.714609 - 3.7min"
       ]
      },
      {
       "output_type": "stream",
       "stream": "stdout",
       "text": [
        "\n",
        "[Parallel(n_jobs=1)]: Done  55 jobs       | elapsed: 179.6min\n",
        "[GridSearchCV] max_features=20, min_samples_split=6, n_estimators=500, max_depth=10, min_samples_leaf=3 \n",
        "[GridSearchCV]  max_features=20, min_samples_split=6, n_estimators=500, max_depth=10, min_samples_leaf=3, score=0.718649 - 3.7min"
       ]
      },
      {
       "output_type": "stream",
       "stream": "stdout",
       "text": [
        "\n",
        "[Parallel(n_jobs=1)]: Done  56 jobs       | elapsed: 183.4min\n",
        "[GridSearchCV] max_features=20, min_samples_split=6, n_estimators=500, max_depth=10, min_samples_leaf=3 \n",
        "[GridSearchCV]  max_features=20, min_samples_split=6, n_estimators=500, max_depth=10, min_samples_leaf=3, score=0.719295 - 3.6min"
       ]
      },
      {
       "output_type": "stream",
       "stream": "stdout",
       "text": [
        "\n",
        "[Parallel(n_jobs=1)]: Done  57 jobs       | elapsed: 186.9min\n",
        "[GridSearchCV] max_features=20, min_samples_split=6, n_estimators=500, max_depth=10, min_samples_leaf=3 \n",
        "[GridSearchCV]  max_features=20, min_samples_split=6, n_estimators=500, max_depth=10, min_samples_leaf=3, score=0.718972 - 3.5min"
       ]
      },
      {
       "output_type": "stream",
       "stream": "stdout",
       "text": [
        "\n",
        "[Parallel(n_jobs=1)]: Done  58 jobs       | elapsed: 190.4min\n",
        "[GridSearchCV] max_features=20, min_samples_split=6, n_estimators=500, max_depth=10, min_samples_leaf=3 \n",
        "[GridSearchCV]  max_features=20, min_samples_split=6, n_estimators=500, max_depth=10, min_samples_leaf=3, score=0.712947 - 3.4min"
       ]
      },
      {
       "output_type": "stream",
       "stream": "stdout",
       "text": [
        "\n",
        "[Parallel(n_jobs=1)]: Done  59 jobs       | elapsed: 193.8min\n",
        "[GridSearchCV] max_features=20, min_samples_split=6, n_estimators=500, max_depth=10, min_samples_leaf=3 \n",
        "[GridSearchCV]  max_features=20, min_samples_split=6, n_estimators=500, max_depth=10, min_samples_leaf=3, score=0.712300 - 3.6min"
       ]
      },
      {
       "output_type": "stream",
       "stream": "stdout",
       "text": [
        "\n",
        "[Parallel(n_jobs=1)]: Done  60 jobs       | elapsed: 197.4min\n",
        "[GridSearchCV] max_features=20, min_samples_split=13, n_estimators=450, max_depth=10, min_samples_leaf=3 \n",
        "[GridSearchCV]  max_features=20, min_samples_split=13, n_estimators=450, max_depth=10, min_samples_leaf=3, score=0.715417 - 3.1min"
       ]
      },
      {
       "output_type": "stream",
       "stream": "stdout",
       "text": [
        "\n",
        "[Parallel(n_jobs=1)]: Done  61 jobs       | elapsed: 200.5min\n",
        "[GridSearchCV] max_features=20, min_samples_split=13, n_estimators=450, max_depth=10, min_samples_leaf=3 \n",
        "[GridSearchCV]  max_features=20, min_samples_split=13, n_estimators=450, max_depth=10, min_samples_leaf=3, score=0.714124 - 3.2min"
       ]
      },
      {
       "output_type": "stream",
       "stream": "stdout",
       "text": [
        "\n",
        "[Parallel(n_jobs=1)]: Done  62 jobs       | elapsed: 203.8min\n",
        "[GridSearchCV] max_features=20, min_samples_split=13, n_estimators=450, max_depth=10, min_samples_leaf=3 \n",
        "[GridSearchCV]  max_features=20, min_samples_split=13, n_estimators=450, max_depth=10, min_samples_leaf=3, score=0.708468 - 3.1min"
       ]
      },
      {
       "output_type": "stream",
       "stream": "stdout",
       "text": [
        "\n",
        "[Parallel(n_jobs=1)]: Done  63 jobs       | elapsed: 206.9min\n",
        "[GridSearchCV] max_features=20, min_samples_split=13, n_estimators=450, max_depth=10, min_samples_leaf=3 \n",
        "[GridSearchCV]  max_features=20, min_samples_split=13, n_estimators=450, max_depth=10, min_samples_leaf=3, score=0.716871 - 2.9min"
       ]
      },
      {
       "output_type": "stream",
       "stream": "stdout",
       "text": [
        "\n",
        "[Parallel(n_jobs=1)]: Done  64 jobs       | elapsed: 209.8min\n",
        "[GridSearchCV] max_features=20, min_samples_split=13, n_estimators=450, max_depth=10, min_samples_leaf=3 \n",
        "[GridSearchCV]  max_features=20, min_samples_split=13, n_estimators=450, max_depth=10, min_samples_leaf=3, score=0.714771 - 2.9min"
       ]
      },
      {
       "output_type": "stream",
       "stream": "stdout",
       "text": [
        "\n",
        "[Parallel(n_jobs=1)]: Done  65 jobs       | elapsed: 212.7min\n",
        "[GridSearchCV] max_features=20, min_samples_split=13, n_estimators=450, max_depth=10, min_samples_leaf=3 \n",
        "[GridSearchCV]  max_features=20, min_samples_split=13, n_estimators=450, max_depth=10, min_samples_leaf=3, score=0.718487 - 2.9min"
       ]
      },
      {
       "output_type": "stream",
       "stream": "stdout",
       "text": [
        "\n",
        "[Parallel(n_jobs=1)]: Done  66 jobs       | elapsed: 215.7min\n",
        "[GridSearchCV] max_features=20, min_samples_split=13, n_estimators=450, max_depth=10, min_samples_leaf=3 \n",
        "[GridSearchCV]  max_features=20, min_samples_split=13, n_estimators=450, max_depth=10, min_samples_leaf=3, score=0.721073 - 2.9min"
       ]
      },
      {
       "output_type": "stream",
       "stream": "stdout",
       "text": [
        "\n",
        "[Parallel(n_jobs=1)]: Done  67 jobs       | elapsed: 218.6min\n",
        "[GridSearchCV] max_features=20, min_samples_split=13, n_estimators=450, max_depth=10, min_samples_leaf=3 \n",
        "[GridSearchCV]  max_features=20, min_samples_split=13, n_estimators=450, max_depth=10, min_samples_leaf=3, score=0.718326 - 2.9min"
       ]
      },
      {
       "output_type": "stream",
       "stream": "stdout",
       "text": [
        "\n",
        "[Parallel(n_jobs=1)]: Done  68 jobs       | elapsed: 221.5min\n",
        "[GridSearchCV] max_features=20, min_samples_split=13, n_estimators=450, max_depth=10, min_samples_leaf=3 \n",
        "[GridSearchCV]  max_features=20, min_samples_split=13, n_estimators=450, max_depth=10, min_samples_leaf=3, score=0.713916 - 2.9min"
       ]
      },
      {
       "output_type": "stream",
       "stream": "stdout",
       "text": [
        "\n",
        "[Parallel(n_jobs=1)]: Done  69 jobs       | elapsed: 224.3min\n",
        "[GridSearchCV] max_features=20, min_samples_split=13, n_estimators=450, max_depth=10, min_samples_leaf=3 \n",
        "[GridSearchCV]  max_features=20, min_samples_split=13, n_estimators=450, max_depth=10, min_samples_leaf=3, score=0.711977 - 2.9min"
       ]
      },
      {
       "output_type": "stream",
       "stream": "stdout",
       "text": [
        "\n",
        "[Parallel(n_jobs=1)]: Done  70 jobs       | elapsed: 227.2min\n",
        "[GridSearchCV] max_features=20, min_samples_split=13, n_estimators=500, max_depth=10, min_samples_leaf=3 \n",
        "[GridSearchCV]  max_features=20, min_samples_split=13, n_estimators=500, max_depth=10, min_samples_leaf=3, score=0.712670 - 3.2min"
       ]
      },
      {
       "output_type": "stream",
       "stream": "stdout",
       "text": [
        "\n",
        "[Parallel(n_jobs=1)]: Done  71 jobs       | elapsed: 230.3min\n",
        "[GridSearchCV] max_features=20, min_samples_split=13, n_estimators=500, max_depth=10, min_samples_leaf=3 \n",
        "[GridSearchCV]  max_features=20, min_samples_split=13, n_estimators=500, max_depth=10, min_samples_leaf=3, score=0.713639 - 3.2min"
       ]
      },
      {
       "output_type": "stream",
       "stream": "stdout",
       "text": [
        "\n",
        "[Parallel(n_jobs=1)]: Done  72 jobs       | elapsed: 233.5min\n",
        "[GridSearchCV] max_features=20, min_samples_split=13, n_estimators=500, max_depth=10, min_samples_leaf=3 \n",
        "[GridSearchCV]  max_features=20, min_samples_split=13, n_estimators=500, max_depth=10, min_samples_leaf=3, score=0.707175 - 3.5min"
       ]
      },
      {
       "output_type": "stream",
       "stream": "stdout",
       "text": [
        "\n",
        "[Parallel(n_jobs=1)]: Done  73 jobs       | elapsed: 237.1min\n",
        "[GridSearchCV] max_features=20, min_samples_split=13, n_estimators=500, max_depth=10, min_samples_leaf=3 \n",
        "[GridSearchCV]  max_features=20, min_samples_split=13, n_estimators=500, max_depth=10, min_samples_leaf=3, score=0.718164 - 3.5min"
       ]
      },
      {
       "output_type": "stream",
       "stream": "stdout",
       "text": [
        "\n",
        "[Parallel(n_jobs=1)]: Done  74 jobs       | elapsed: 240.5min\n",
        "[GridSearchCV] max_features=20, min_samples_split=13, n_estimators=500, max_depth=10, min_samples_leaf=3 \n",
        "[GridSearchCV]  max_features=20, min_samples_split=13, n_estimators=500, max_depth=10, min_samples_leaf=3, score=0.716387 - 3.4min"
       ]
      },
      {
       "output_type": "stream",
       "stream": "stdout",
       "text": [
        "\n",
        "[Parallel(n_jobs=1)]: Done  75 jobs       | elapsed: 244.0min\n",
        "[GridSearchCV] max_features=20, min_samples_split=13, n_estimators=500, max_depth=10, min_samples_leaf=3 \n",
        "[GridSearchCV]  max_features=20, min_samples_split=13, n_estimators=500, max_depth=10, min_samples_leaf=3, score=0.718811 - 3.7min"
       ]
      },
      {
       "output_type": "stream",
       "stream": "stdout",
       "text": [
        "\n",
        "[Parallel(n_jobs=1)]: Done  76 jobs       | elapsed: 247.7min\n",
        "[GridSearchCV] max_features=20, min_samples_split=13, n_estimators=500, max_depth=10, min_samples_leaf=3 \n",
        "[GridSearchCV]  max_features=20, min_samples_split=13, n_estimators=500, max_depth=10, min_samples_leaf=3, score=0.719942 - 3.3min"
       ]
      },
      {
       "output_type": "stream",
       "stream": "stdout",
       "text": [
        "\n",
        "[Parallel(n_jobs=1)]: Done  77 jobs       | elapsed: 251.0min\n",
        "[GridSearchCV] max_features=20, min_samples_split=13, n_estimators=500, max_depth=10, min_samples_leaf=3 \n",
        "[GridSearchCV]  max_features=20, min_samples_split=13, n_estimators=500, max_depth=10, min_samples_leaf=3, score=0.717033 - 3.2min"
       ]
      },
      {
       "output_type": "stream",
       "stream": "stdout",
       "text": [
        "\n",
        "[Parallel(n_jobs=1)]: Done  78 jobs       | elapsed: 254.3min\n",
        "[GridSearchCV] max_features=20, min_samples_split=13, n_estimators=500, max_depth=10, min_samples_leaf=3 \n",
        "[GridSearchCV]  max_features=20, min_samples_split=13, n_estimators=500, max_depth=10, min_samples_leaf=3, score=0.713270 - 3.3min"
       ]
      },
      {
       "output_type": "stream",
       "stream": "stdout",
       "text": [
        "\n",
        "[Parallel(n_jobs=1)]: Done  79 jobs       | elapsed: 257.5min\n",
        "[GridSearchCV] max_features=20, min_samples_split=13, n_estimators=500, max_depth=10, min_samples_leaf=3 \n",
        "[GridSearchCV]  max_features=20, min_samples_split=13, n_estimators=500, max_depth=10, min_samples_leaf=3, score=0.709714 - 3.2min"
       ]
      },
      {
       "output_type": "stream",
       "stream": "stdout",
       "text": [
        "\n",
        "[Parallel(n_jobs=1)]: Done  80 jobs       | elapsed: 260.8min\n",
        "[GridSearchCV] max_features=30, min_samples_split=6, n_estimators=450, max_depth=10, min_samples_leaf=1 \n",
        "[GridSearchCV]  max_features=30, min_samples_split=6, n_estimators=450, max_depth=10, min_samples_leaf=1, score=0.715094 - 4.4min"
       ]
      },
      {
       "output_type": "stream",
       "stream": "stdout",
       "text": [
        "\n",
        "[Parallel(n_jobs=1)]: Done  81 jobs       | elapsed: 265.1min\n",
        "[GridSearchCV] max_features=30, min_samples_split=6, n_estimators=450, max_depth=10, min_samples_leaf=1 \n",
        "[GridSearchCV]  max_features=30, min_samples_split=6, n_estimators=450, max_depth=10, min_samples_leaf=1, score=0.713154 - 4.4min"
       ]
      },
      {
       "output_type": "stream",
       "stream": "stdout",
       "text": [
        "\n",
        "[Parallel(n_jobs=1)]: Done  82 jobs       | elapsed: 269.5min\n",
        "[GridSearchCV] max_features=30, min_samples_split=6, n_estimators=450, max_depth=10, min_samples_leaf=1 \n",
        "[GridSearchCV]  max_features=30, min_samples_split=6, n_estimators=450, max_depth=10, min_samples_leaf=1, score=0.708145 - 4.4min"
       ]
      },
      {
       "output_type": "stream",
       "stream": "stdout",
       "text": [
        "\n",
        "[Parallel(n_jobs=1)]: Done  83 jobs       | elapsed: 273.9min\n",
        "[GridSearchCV] max_features=30, min_samples_split=6, n_estimators=450, max_depth=10, min_samples_leaf=1 \n",
        "[GridSearchCV]  max_features=30, min_samples_split=6, n_estimators=450, max_depth=10, min_samples_leaf=1, score=0.717195 - 4.6min"
       ]
      },
      {
       "output_type": "stream",
       "stream": "stdout",
       "text": [
        "\n",
        "[Parallel(n_jobs=1)]: Done  84 jobs       | elapsed: 278.4min\n",
        "[GridSearchCV] max_features=30, min_samples_split=6, n_estimators=450, max_depth=10, min_samples_leaf=1 \n",
        "[GridSearchCV]  max_features=30, min_samples_split=6, n_estimators=450, max_depth=10, min_samples_leaf=1, score=0.717679 - 4.4min"
       ]
      },
      {
       "output_type": "stream",
       "stream": "stdout",
       "text": [
        "\n",
        "[Parallel(n_jobs=1)]: Done  85 jobs       | elapsed: 282.8min\n",
        "[GridSearchCV] max_features=30, min_samples_split=6, n_estimators=450, max_depth=10, min_samples_leaf=1 \n",
        "[GridSearchCV]  max_features=30, min_samples_split=6, n_estimators=450, max_depth=10, min_samples_leaf=1, score=0.717679 - 4.7min"
       ]
      },
      {
       "output_type": "stream",
       "stream": "stdout",
       "text": [
        "\n",
        "[Parallel(n_jobs=1)]: Done  86 jobs       | elapsed: 287.5min\n",
        "[GridSearchCV] max_features=30, min_samples_split=6, n_estimators=450, max_depth=10, min_samples_leaf=1 \n",
        "[GridSearchCV]  max_features=30, min_samples_split=6, n_estimators=450, max_depth=10, min_samples_leaf=1, score=0.718487 - 4.7min"
       ]
      },
      {
       "output_type": "stream",
       "stream": "stdout",
       "text": [
        "\n",
        "[Parallel(n_jobs=1)]: Done  87 jobs       | elapsed: 292.2min\n",
        "[GridSearchCV] max_features=30, min_samples_split=6, n_estimators=450, max_depth=10, min_samples_leaf=1 \n",
        "[GridSearchCV]  max_features=30, min_samples_split=6, n_estimators=450, max_depth=10, min_samples_leaf=1, score=0.716225 - 5.3min"
       ]
      },
      {
       "output_type": "stream",
       "stream": "stdout",
       "text": [
        "\n",
        "[Parallel(n_jobs=1)]: Done  88 jobs       | elapsed: 297.4min\n",
        "[GridSearchCV] max_features=30, min_samples_split=6, n_estimators=450, max_depth=10, min_samples_leaf=1 \n",
        "[GridSearchCV]  max_features=30, min_samples_split=6, n_estimators=450, max_depth=10, min_samples_leaf=1, score=0.712785 - 5.0min"
       ]
      },
      {
       "output_type": "stream",
       "stream": "stdout",
       "text": [
        "\n",
        "[Parallel(n_jobs=1)]: Done  89 jobs       | elapsed: 302.5min\n",
        "[GridSearchCV] max_features=30, min_samples_split=6, n_estimators=450, max_depth=10, min_samples_leaf=1 \n",
        "[GridSearchCV]  max_features=30, min_samples_split=6, n_estimators=450, max_depth=10, min_samples_leaf=1, score=0.709876 - 4.9min"
       ]
      },
      {
       "output_type": "stream",
       "stream": "stdout",
       "text": [
        "\n",
        "[Parallel(n_jobs=1)]: Done  90 jobs       | elapsed: 307.3min\n",
        "[GridSearchCV] max_features=30, min_samples_split=6, n_estimators=500, max_depth=10, min_samples_leaf=1 \n",
        "[GridSearchCV]  max_features=30, min_samples_split=6, n_estimators=500, max_depth=10, min_samples_leaf=1, score=0.710730 - 5.2min"
       ]
      },
      {
       "output_type": "stream",
       "stream": "stdout",
       "text": [
        "\n",
        "[Parallel(n_jobs=1)]: Done  91 jobs       | elapsed: 312.5min\n",
        "[GridSearchCV] max_features=30, min_samples_split=6, n_estimators=500, max_depth=10, min_samples_leaf=1 \n",
        "[GridSearchCV]  max_features=30, min_samples_split=6, n_estimators=500, max_depth=10, min_samples_leaf=1, score=0.712346 - 5.0min"
       ]
      }
     ]
    },
    {
     "cell_type": "code",
     "collapsed": false,
     "input": [
      "rf = RandomForestClassifier(n_estimators=450, max_depth=15, min_samples_split=6, min_samples_leaf=2, max_features=20)\n",
      "rf.fit(X_train, y_train)"
     ],
     "language": "python",
     "metadata": {},
     "outputs": [
      {
       "metadata": {},
       "output_type": "pyout",
       "prompt_number": 9,
       "text": [
        "RandomForestClassifier(bootstrap=True, compute_importances=None,\n",
        "            criterion='gini', max_depth=15, max_features=20,\n",
        "            min_density=None, min_samples_leaf=2, min_samples_split=6,\n",
        "            n_estimators=450, n_jobs=1, oob_score=False, random_state=None,\n",
        "            verbose=0)"
       ]
      }
     ],
     "prompt_number": 9
    },
    {
     "cell_type": "code",
     "collapsed": false,
     "input": [],
     "language": "python",
     "metadata": {},
     "outputs": []
    }
   ],
   "metadata": {}
  }
 ]
}